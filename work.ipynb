{
 "cells": [
  {
   "cell_type": "code",
   "execution_count": 1,
   "id": "bc9fbac6",
   "metadata": {},
   "outputs": [],
   "source": [
    "#importing libraries \n",
    "import pandas as pd \n",
    "import numpy as np\n",
    "import matplotlib.pyplot as plt\n",
    "import seaborn as sns\n",
    "%matplotlib inline\n",
    "import sklearn\n",
    "import math"
   ]
  },
  {
   "cell_type": "code",
   "execution_count": 2,
   "id": "33f49d19",
   "metadata": {},
   "outputs": [],
   "source": [
    "from sklearn import preprocessing\n",
    "from sklearn.linear_model import Ridge\n",
    "from sklearn.metrics import f1_score as f1\n",
    "from sklearn.preprocessing import LabelEncoder\n",
    "from sklearn.preprocessing import MinMaxScaler\n",
    "from sklearn.linear_model import LogisticRegression as logreg\n",
    "from sklearn.linear_model import LinearRegression as linreg\n",
    "from sklearn.metrics import mean_squared_error as rmse\n",
    "\n",
    "from sklearn.model_selection import KFold, StratifiedKFold, train_test_split\n",
    "from sklearn.metrics import roc_auc_score ,roc_auc_score as auc, accuracy_score as acc, confusion_matrix, roc_curve, precision_score, recall_score, precision_recall_curve,average_precision_score,average_precision_score as aps,log_loss as ll\n",
    "\n",
    "from pandas.core.common import SettingWithCopyWarning\n",
    "from sklearn.exceptions import FitFailedWarning\n",
    "import warnings\n",
    "warnings.simplefilter(action='ignore', category=FitFailedWarning)\n",
    "warnings.simplefilter(action='ignore', category=FutureWarning)\n",
    "warnings.simplefilter(action='ignore', category=UserWarning)\n",
    "warnings.simplefilter(action='ignore', category=RuntimeWarning)\n",
    "warnings.simplefilter(action='ignore', category=SettingWithCopyWarning)"
   ]
  },
  {
   "cell_type": "code",
   "execution_count": 3,
   "id": "1a41fa07",
   "metadata": {},
   "outputs": [],
   "source": [
    "from sklearn.tree import DecisionTreeRegressor as dtr,export_graphviz\n",
    "from sklearn.model_selection import GridSearchCV as gs, RandomizedSearchCV as rs\n",
    "from sklearn.metrics import make_scorer\n",
    "import graphviz"
   ]
  },
  {
   "cell_type": "markdown",
   "id": "31cff8ed",
   "metadata": {},
   "source": [
    "## random state"
   ]
  },
  {
   "cell_type": "code",
   "execution_count": 4,
   "id": "e1fb2983",
   "metadata": {},
   "outputs": [],
   "source": [
    "r=6"
   ]
  },
  {
   "cell_type": "code",
   "execution_count": 5,
   "id": "72f06f64",
   "metadata": {},
   "outputs": [
    {
     "data": {
      "text/html": [
       "<div>\n",
       "<style scoped>\n",
       "    .dataframe tbody tr th:only-of-type {\n",
       "        vertical-align: middle;\n",
       "    }\n",
       "\n",
       "    .dataframe tbody tr th {\n",
       "        vertical-align: top;\n",
       "    }\n",
       "\n",
       "    .dataframe thead th {\n",
       "        text-align: right;\n",
       "    }\n",
       "</style>\n",
       "<table border=\"1\" class=\"dataframe\">\n",
       "  <thead>\n",
       "    <tr style=\"text-align: right;\">\n",
       "      <th></th>\n",
       "      <th>Position</th>\n",
       "      <th>Track Name</th>\n",
       "      <th>Artist</th>\n",
       "      <th>Streams</th>\n",
       "      <th>URL</th>\n",
       "      <th>Date</th>\n",
       "      <th>Region</th>\n",
       "    </tr>\n",
       "  </thead>\n",
       "  <tbody>\n",
       "    <tr>\n",
       "      <th>0</th>\n",
       "      <td>1</td>\n",
       "      <td>Reggaetón Lento (Bailemos)</td>\n",
       "      <td>CNCO</td>\n",
       "      <td>19272</td>\n",
       "      <td>https://open.spotify.com/track/3AEZUABDXNtecAO...</td>\n",
       "      <td>2017-01-01</td>\n",
       "      <td>ec</td>\n",
       "    </tr>\n",
       "    <tr>\n",
       "      <th>1</th>\n",
       "      <td>2</td>\n",
       "      <td>Chantaje</td>\n",
       "      <td>Shakira</td>\n",
       "      <td>19270</td>\n",
       "      <td>https://open.spotify.com/track/6mICuAdrwEjh6Y6...</td>\n",
       "      <td>2017-01-01</td>\n",
       "      <td>ec</td>\n",
       "    </tr>\n",
       "    <tr>\n",
       "      <th>2</th>\n",
       "      <td>3</td>\n",
       "      <td>Otra Vez (feat. J Balvin)</td>\n",
       "      <td>Zion &amp; Lennox</td>\n",
       "      <td>15761</td>\n",
       "      <td>https://open.spotify.com/track/3QwBODjSEzelZyV...</td>\n",
       "      <td>2017-01-01</td>\n",
       "      <td>ec</td>\n",
       "    </tr>\n",
       "    <tr>\n",
       "      <th>3</th>\n",
       "      <td>4</td>\n",
       "      <td>Vente Pa' Ca</td>\n",
       "      <td>Ricky Martin</td>\n",
       "      <td>14954</td>\n",
       "      <td>https://open.spotify.com/track/7DM4BPaS7uofFul...</td>\n",
       "      <td>2017-01-01</td>\n",
       "      <td>ec</td>\n",
       "    </tr>\n",
       "    <tr>\n",
       "      <th>4</th>\n",
       "      <td>5</td>\n",
       "      <td>Safari</td>\n",
       "      <td>J Balvin</td>\n",
       "      <td>14269</td>\n",
       "      <td>https://open.spotify.com/track/6rQSrBHf7HlZjtc...</td>\n",
       "      <td>2017-01-01</td>\n",
       "      <td>ec</td>\n",
       "    </tr>\n",
       "  </tbody>\n",
       "</table>\n",
       "</div>"
      ],
      "text/plain": [
       "   Position                  Track Name         Artist  Streams  \\\n",
       "0         1  Reggaetón Lento (Bailemos)           CNCO    19272   \n",
       "1         2                    Chantaje        Shakira    19270   \n",
       "2         3   Otra Vez (feat. J Balvin)  Zion & Lennox    15761   \n",
       "3         4                Vente Pa' Ca   Ricky Martin    14954   \n",
       "4         5                      Safari       J Balvin    14269   \n",
       "\n",
       "                                                 URL        Date Region  \n",
       "0  https://open.spotify.com/track/3AEZUABDXNtecAO...  2017-01-01     ec  \n",
       "1  https://open.spotify.com/track/6mICuAdrwEjh6Y6...  2017-01-01     ec  \n",
       "2  https://open.spotify.com/track/3QwBODjSEzelZyV...  2017-01-01     ec  \n",
       "3  https://open.spotify.com/track/7DM4BPaS7uofFul...  2017-01-01     ec  \n",
       "4  https://open.spotify.com/track/6rQSrBHf7HlZjtc...  2017-01-01     ec  "
      ]
     },
     "execution_count": 5,
     "metadata": {},
     "output_type": "execute_result"
    }
   ],
   "source": [
    "data = pd.read_csv('spotify_data.csv')\n",
    "data.head()"
   ]
  },
  {
   "cell_type": "markdown",
   "id": "80447ff3",
   "metadata": {},
   "source": [
    "## Missing Value"
   ]
  },
  {
   "cell_type": "code",
   "execution_count": 6,
   "id": "d513cb60",
   "metadata": {},
   "outputs": [
    {
     "data": {
      "text/plain": [
       "Position        0\n",
       "Track Name    657\n",
       "Artist        657\n",
       "Streams         0\n",
       "URL             8\n",
       "Date            0\n",
       "Region          0\n",
       "dtype: int64"
      ]
     },
     "execution_count": 6,
     "metadata": {},
     "output_type": "execute_result"
    }
   ],
   "source": [
    "data.isnull().sum()"
   ]
  },
  {
   "cell_type": "code",
   "execution_count": 7,
   "id": "17e4dc86",
   "metadata": {},
   "outputs": [],
   "source": [
    "data.dropna(inplace=True)"
   ]
  },
  {
   "cell_type": "markdown",
   "id": "d4f7db2b",
   "metadata": {},
   "source": [
    "## Preprocessing"
   ]
  },
  {
   "cell_type": "markdown",
   "id": "1eb4508d",
   "metadata": {},
   "source": [
    "### track_names"
   ]
  },
  {
   "cell_type": "code",
   "execution_count": 8,
   "id": "c32be7e7",
   "metadata": {},
   "outputs": [
    {
     "data": {
      "text/html": [
       "<div>\n",
       "<style scoped>\n",
       "    .dataframe tbody tr th:only-of-type {\n",
       "        vertical-align: middle;\n",
       "    }\n",
       "\n",
       "    .dataframe tbody tr th {\n",
       "        vertical-align: top;\n",
       "    }\n",
       "\n",
       "    .dataframe thead th {\n",
       "        text-align: right;\n",
       "    }\n",
       "</style>\n",
       "<table border=\"1\" class=\"dataframe\">\n",
       "  <thead>\n",
       "    <tr style=\"text-align: right;\">\n",
       "      <th></th>\n",
       "      <th>Position</th>\n",
       "      <th>Track Name</th>\n",
       "      <th>Artist</th>\n",
       "      <th>Streams</th>\n",
       "      <th>URL</th>\n",
       "      <th>Date</th>\n",
       "      <th>Region</th>\n",
       "    </tr>\n",
       "  </thead>\n",
       "  <tbody>\n",
       "    <tr>\n",
       "      <th>0</th>\n",
       "      <td>1</td>\n",
       "      <td>Reggaetón Lento (Bailemos)</td>\n",
       "      <td>CNCO</td>\n",
       "      <td>19272</td>\n",
       "      <td>https://open.spotify.com/track/3AEZUABDXNtecAO...</td>\n",
       "      <td>2017-01-01</td>\n",
       "      <td>ec</td>\n",
       "    </tr>\n",
       "    <tr>\n",
       "      <th>1</th>\n",
       "      <td>2</td>\n",
       "      <td>Chantaje</td>\n",
       "      <td>Shakira</td>\n",
       "      <td>19270</td>\n",
       "      <td>https://open.spotify.com/track/6mICuAdrwEjh6Y6...</td>\n",
       "      <td>2017-01-01</td>\n",
       "      <td>ec</td>\n",
       "    </tr>\n",
       "    <tr>\n",
       "      <th>2</th>\n",
       "      <td>3</td>\n",
       "      <td>Otra Vez (feat. J Balvin)</td>\n",
       "      <td>Zion &amp; Lennox</td>\n",
       "      <td>15761</td>\n",
       "      <td>https://open.spotify.com/track/3QwBODjSEzelZyV...</td>\n",
       "      <td>2017-01-01</td>\n",
       "      <td>ec</td>\n",
       "    </tr>\n",
       "    <tr>\n",
       "      <th>3</th>\n",
       "      <td>4</td>\n",
       "      <td>Vente Pa' Ca</td>\n",
       "      <td>Ricky Martin</td>\n",
       "      <td>14954</td>\n",
       "      <td>https://open.spotify.com/track/7DM4BPaS7uofFul...</td>\n",
       "      <td>2017-01-01</td>\n",
       "      <td>ec</td>\n",
       "    </tr>\n",
       "    <tr>\n",
       "      <th>4</th>\n",
       "      <td>5</td>\n",
       "      <td>Safari</td>\n",
       "      <td>J Balvin</td>\n",
       "      <td>14269</td>\n",
       "      <td>https://open.spotify.com/track/6rQSrBHf7HlZjtc...</td>\n",
       "      <td>2017-01-01</td>\n",
       "      <td>ec</td>\n",
       "    </tr>\n",
       "  </tbody>\n",
       "</table>\n",
       "</div>"
      ],
      "text/plain": [
       "   Position                  Track Name         Artist  Streams  \\\n",
       "0         1  Reggaetón Lento (Bailemos)           CNCO    19272   \n",
       "1         2                    Chantaje        Shakira    19270   \n",
       "2         3   Otra Vez (feat. J Balvin)  Zion & Lennox    15761   \n",
       "3         4                Vente Pa' Ca   Ricky Martin    14954   \n",
       "4         5                      Safari       J Balvin    14269   \n",
       "\n",
       "                                                 URL        Date Region  \n",
       "0  https://open.spotify.com/track/3AEZUABDXNtecAO...  2017-01-01     ec  \n",
       "1  https://open.spotify.com/track/6mICuAdrwEjh6Y6...  2017-01-01     ec  \n",
       "2  https://open.spotify.com/track/3QwBODjSEzelZyV...  2017-01-01     ec  \n",
       "3  https://open.spotify.com/track/7DM4BPaS7uofFul...  2017-01-01     ec  \n",
       "4  https://open.spotify.com/track/6rQSrBHf7HlZjtc...  2017-01-01     ec  "
      ]
     },
     "execution_count": 8,
     "metadata": {},
     "output_type": "execute_result"
    }
   ],
   "source": [
    "data.head()"
   ]
  },
  {
   "cell_type": "code",
   "execution_count": 9,
   "id": "dd1b20c9",
   "metadata": {},
   "outputs": [],
   "source": [
    "le = preprocessing.LabelEncoder()\n",
    "data['Track Name']=le.fit_transform(data['Track Name'])\n",
    "data['Artist']=le.fit_transform(data['Artist'])\n",
    "data['Region']=le.fit_transform(data['Region'])"
   ]
  },
  {
   "cell_type": "markdown",
   "id": "6ae1249d",
   "metadata": {},
   "source": [
    "removing url column"
   ]
  },
  {
   "cell_type": "code",
   "execution_count": 10,
   "id": "8b7b5e2d",
   "metadata": {},
   "outputs": [],
   "source": [
    "data.drop(['URL'], axis=1,inplace=True)"
   ]
  },
  {
   "cell_type": "code",
   "execution_count": 11,
   "id": "ab412ad2",
   "metadata": {},
   "outputs": [
    {
     "data": {
      "text/html": [
       "<div>\n",
       "<style scoped>\n",
       "    .dataframe tbody tr th:only-of-type {\n",
       "        vertical-align: middle;\n",
       "    }\n",
       "\n",
       "    .dataframe tbody tr th {\n",
       "        vertical-align: top;\n",
       "    }\n",
       "\n",
       "    .dataframe thead th {\n",
       "        text-align: right;\n",
       "    }\n",
       "</style>\n",
       "<table border=\"1\" class=\"dataframe\">\n",
       "  <thead>\n",
       "    <tr style=\"text-align: right;\">\n",
       "      <th></th>\n",
       "      <th>Position</th>\n",
       "      <th>Track Name</th>\n",
       "      <th>Artist</th>\n",
       "      <th>Streams</th>\n",
       "      <th>Date</th>\n",
       "      <th>Region</th>\n",
       "    </tr>\n",
       "  </thead>\n",
       "  <tbody>\n",
       "    <tr>\n",
       "      <th>0</th>\n",
       "      <td>1</td>\n",
       "      <td>12081</td>\n",
       "      <td>897</td>\n",
       "      <td>19272</td>\n",
       "      <td>2017-01-01</td>\n",
       "      <td>15</td>\n",
       "    </tr>\n",
       "    <tr>\n",
       "      <th>1</th>\n",
       "      <td>2</td>\n",
       "      <td>2412</td>\n",
       "      <td>5194</td>\n",
       "      <td>19270</td>\n",
       "      <td>2017-01-01</td>\n",
       "      <td>15</td>\n",
       "    </tr>\n",
       "    <tr>\n",
       "      <th>2</th>\n",
       "      <td>3</td>\n",
       "      <td>10924</td>\n",
       "      <td>6331</td>\n",
       "      <td>15761</td>\n",
       "      <td>2017-01-01</td>\n",
       "      <td>15</td>\n",
       "    </tr>\n",
       "    <tr>\n",
       "      <th>3</th>\n",
       "      <td>4</td>\n",
       "      <td>15445</td>\n",
       "      <td>4854</td>\n",
       "      <td>14954</td>\n",
       "      <td>2017-01-01</td>\n",
       "      <td>15</td>\n",
       "    </tr>\n",
       "    <tr>\n",
       "      <th>4</th>\n",
       "      <td>5</td>\n",
       "      <td>12461</td>\n",
       "      <td>2523</td>\n",
       "      <td>14269</td>\n",
       "      <td>2017-01-01</td>\n",
       "      <td>15</td>\n",
       "    </tr>\n",
       "  </tbody>\n",
       "</table>\n",
       "</div>"
      ],
      "text/plain": [
       "   Position  Track Name  Artist  Streams        Date  Region\n",
       "0         1       12081     897    19272  2017-01-01      15\n",
       "1         2        2412    5194    19270  2017-01-01      15\n",
       "2         3       10924    6331    15761  2017-01-01      15\n",
       "3         4       15445    4854    14954  2017-01-01      15\n",
       "4         5       12461    2523    14269  2017-01-01      15"
      ]
     },
     "execution_count": 11,
     "metadata": {},
     "output_type": "execute_result"
    }
   ],
   "source": [
    "data.head()"
   ]
  },
  {
   "cell_type": "markdown",
   "id": "6a0c19ce",
   "metadata": {},
   "source": [
    "## Date"
   ]
  },
  {
   "cell_type": "code",
   "execution_count": 12,
   "id": "fe974dc0",
   "metadata": {},
   "outputs": [
    {
     "data": {
      "text/plain": [
       "('2018-01-09', '2017-01-01')"
      ]
     },
     "execution_count": 12,
     "metadata": {},
     "output_type": "execute_result"
    }
   ],
   "source": [
    "data['Date'].max(), data['Date'].min()"
   ]
  },
  {
   "cell_type": "code",
   "execution_count": 13,
   "id": "8bc66b97",
   "metadata": {},
   "outputs": [
    {
     "data": {
      "text/plain": [
       "Position               int64\n",
       "Track Name             int64\n",
       "Artist                 int64\n",
       "Streams                int64\n",
       "Date          datetime64[ns]\n",
       "Region                 int64\n",
       "dtype: object"
      ]
     },
     "execution_count": 13,
     "metadata": {},
     "output_type": "execute_result"
    }
   ],
   "source": [
    "data['Date'] = pd.to_datetime(data['Date'], format= '%Y-%m-%d')\n",
    "data.dtypes"
   ]
  },
  {
   "cell_type": "code",
   "execution_count": 14,
   "id": "090eef11",
   "metadata": {},
   "outputs": [
    {
     "data": {
      "text/plain": [
       "(Timestamp('2018-01-09 00:00:00'), Timestamp('2017-01-01 00:00:00'))"
      ]
     },
     "execution_count": 14,
     "metadata": {},
     "output_type": "execute_result"
    }
   ],
   "source": [
    "data['Date'].max(), data['Date'].min()"
   ]
  },
  {
   "cell_type": "markdown",
   "id": "39652a98",
   "metadata": {},
   "source": [
    "### extracting"
   ]
  },
  {
   "cell_type": "markdown",
   "id": "ac7f0598",
   "metadata": {},
   "source": [
    "year"
   ]
  },
  {
   "cell_type": "code",
   "execution_count": 15,
   "id": "900ec9e8",
   "metadata": {},
   "outputs": [
    {
     "data": {
      "text/plain": [
       "0          2017\n",
       "1          2017\n",
       "2          2017\n",
       "3          2017\n",
       "4          2017\n",
       "           ... \n",
       "3441192    2018\n",
       "3441193    2018\n",
       "3441194    2018\n",
       "3441195    2018\n",
       "3441196    2018\n",
       "Name: Date, Length: 3440540, dtype: int64"
      ]
     },
     "execution_count": 15,
     "metadata": {},
     "output_type": "execute_result"
    }
   ],
   "source": [
    "data['Date'].dt.year"
   ]
  },
  {
   "cell_type": "code",
   "execution_count": 16,
   "id": "39f74bb0",
   "metadata": {},
   "outputs": [
    {
     "data": {
      "text/plain": [
       "2017    3355829\n",
       "2018      84711\n",
       "Name: Date, dtype: int64"
      ]
     },
     "execution_count": 16,
     "metadata": {},
     "output_type": "execute_result"
    }
   ],
   "source": [
    "data['Date'].dt.year.value_counts()"
   ]
  },
  {
   "cell_type": "markdown",
   "id": "6edf539a",
   "metadata": {},
   "source": [
    "month"
   ]
  },
  {
   "cell_type": "code",
   "execution_count": 17,
   "id": "e7d86f27",
   "metadata": {},
   "outputs": [
    {
     "data": {
      "text/plain": [
       "0          1\n",
       "1          1\n",
       "2          1\n",
       "3          1\n",
       "4          1\n",
       "          ..\n",
       "3441192    1\n",
       "3441193    1\n",
       "3441194    1\n",
       "3441195    1\n",
       "3441196    1\n",
       "Name: Date, Length: 3440540, dtype: int64"
      ]
     },
     "execution_count": 17,
     "metadata": {},
     "output_type": "execute_result"
    }
   ],
   "source": [
    "data['Date'].dt.month"
   ]
  },
  {
   "cell_type": "code",
   "execution_count": 18,
   "id": "4f122632",
   "metadata": {},
   "outputs": [
    {
     "data": {
      "text/plain": [
       "1     361156\n",
       "12    297611\n",
       "7     290305\n",
       "10    289677\n",
       "8     289439\n",
       "3     285994\n",
       "11    280138\n",
       "9     280084\n",
       "4     274391\n",
       "6     269533\n",
       "5     268020\n",
       "2     254192\n",
       "Name: Date, dtype: int64"
      ]
     },
     "execution_count": 18,
     "metadata": {},
     "output_type": "execute_result"
    }
   ],
   "source": [
    "data['Date'].dt.month.value_counts()"
   ]
  },
  {
   "cell_type": "markdown",
   "id": "89b34cf2",
   "metadata": {},
   "source": [
    "day of month"
   ]
  },
  {
   "cell_type": "code",
   "execution_count": 19,
   "id": "a1479a54",
   "metadata": {},
   "outputs": [
    {
     "data": {
      "text/plain": [
       "0          1\n",
       "1          1\n",
       "2          1\n",
       "3          1\n",
       "4          1\n",
       "          ..\n",
       "3441192    9\n",
       "3441193    9\n",
       "3441194    9\n",
       "3441195    9\n",
       "3441196    9\n",
       "Name: Date, Length: 3440540, dtype: int64"
      ]
     },
     "execution_count": 19,
     "metadata": {},
     "output_type": "execute_result"
    }
   ],
   "source": [
    "data['Date'].dt.day"
   ]
  },
  {
   "cell_type": "code",
   "execution_count": 20,
   "id": "ed42be43",
   "metadata": {},
   "outputs": [
    {
     "data": {
      "text/plain": [
       "8    120677\n",
       "9    120677\n",
       "7    120522\n",
       "5    120435\n",
       "4    120404\n",
       "Name: Date, dtype: int64"
      ]
     },
     "execution_count": 20,
     "metadata": {},
     "output_type": "execute_result"
    }
   ],
   "source": [
    "data['Date'].dt.day.value_counts()[0:5]"
   ]
  },
  {
   "cell_type": "code",
   "execution_count": 21,
   "id": "cf38ed0f",
   "metadata": {},
   "outputs": [
    {
     "data": {
      "text/plain": [
       "31"
      ]
     },
     "execution_count": 21,
     "metadata": {},
     "output_type": "execute_result"
    }
   ],
   "source": [
    "len(data['Date'].dt.day.value_counts())"
   ]
  },
  {
   "cell_type": "markdown",
   "id": "9a1450fc",
   "metadata": {},
   "source": [
    "day of year"
   ]
  },
  {
   "cell_type": "code",
   "execution_count": 22,
   "id": "1ca743ee",
   "metadata": {},
   "outputs": [
    {
     "data": {
      "text/plain": [
       "0          1\n",
       "1          1\n",
       "2          1\n",
       "3          1\n",
       "4          1\n",
       "          ..\n",
       "3441192    9\n",
       "3441193    9\n",
       "3441194    9\n",
       "3441195    9\n",
       "3441196    9\n",
       "Name: Date, Length: 3440540, dtype: int64"
      ]
     },
     "execution_count": 22,
     "metadata": {},
     "output_type": "execute_result"
    }
   ],
   "source": [
    "data['Date'].dt.dayofyear"
   ]
  },
  {
   "cell_type": "code",
   "execution_count": 23,
   "id": "f37ee9d0",
   "metadata": {},
   "outputs": [
    {
     "data": {
      "text/plain": [
       "5     18432\n",
       "6     18402\n",
       "9     18389\n",
       "8     18220\n",
       "4     18197\n",
       "      ...  \n",
       "23     8891\n",
       "29     8889\n",
       "11     8875\n",
       "10     8840\n",
       "15     8829\n",
       "Name: Date, Length: 362, dtype: int64"
      ]
     },
     "execution_count": 23,
     "metadata": {},
     "output_type": "execute_result"
    }
   ],
   "source": [
    "data['Date'].dt.dayofyear.value_counts()"
   ]
  },
  {
   "cell_type": "code",
   "execution_count": 24,
   "id": "da2536d0",
   "metadata": {},
   "outputs": [
    {
     "data": {
      "text/plain": [
       "362"
      ]
     },
     "execution_count": 24,
     "metadata": {},
     "output_type": "execute_result"
    }
   ],
   "source": [
    "len(data['Date'].dt.dayofyear.value_counts())"
   ]
  },
  {
   "cell_type": "markdown",
   "id": "1b3090b0",
   "metadata": {},
   "source": [
    "day of week"
   ]
  },
  {
   "cell_type": "code",
   "execution_count": 25,
   "id": "9b65dd09",
   "metadata": {},
   "outputs": [
    {
     "data": {
      "text/plain": [
       "0          6\n",
       "1          6\n",
       "2          6\n",
       "3          6\n",
       "4          6\n",
       "          ..\n",
       "3441192    1\n",
       "3441193    1\n",
       "3441194    1\n",
       "3441195    1\n",
       "3441196    1\n",
       "Name: Date, Length: 3440540, dtype: int64"
      ]
     },
     "execution_count": 25,
     "metadata": {},
     "output_type": "execute_result"
    }
   ],
   "source": [
    "data['Date'].dt.dayofweek"
   ]
  },
  {
   "cell_type": "code",
   "execution_count": 26,
   "id": "7cb57c4b",
   "metadata": {},
   "outputs": [
    {
     "data": {
      "text/plain": [
       "0    497277\n",
       "5    493745\n",
       "3    493319\n",
       "1    491527\n",
       "6    491422\n",
       "4    490420\n",
       "2    482830\n",
       "Name: Date, dtype: int64"
      ]
     },
     "execution_count": 26,
     "metadata": {},
     "output_type": "execute_result"
    }
   ],
   "source": [
    "data['Date'].dt.dayofweek.value_counts()"
   ]
  },
  {
   "cell_type": "markdown",
   "id": "0b9dd8e3",
   "metadata": {},
   "source": [
    "day of week name"
   ]
  },
  {
   "cell_type": "code",
   "execution_count": 27,
   "id": "280d46cd",
   "metadata": {},
   "outputs": [
    {
     "data": {
      "text/plain": [
       "0           Sunday\n",
       "1           Sunday\n",
       "2           Sunday\n",
       "3           Sunday\n",
       "4           Sunday\n",
       "            ...   \n",
       "3441192    Tuesday\n",
       "3441193    Tuesday\n",
       "3441194    Tuesday\n",
       "3441195    Tuesday\n",
       "3441196    Tuesday\n",
       "Name: Date, Length: 3440540, dtype: object"
      ]
     },
     "execution_count": 27,
     "metadata": {},
     "output_type": "execute_result"
    }
   ],
   "source": [
    "data['Date'].dt.day_name()"
   ]
  },
  {
   "cell_type": "markdown",
   "id": "534fc8f4",
   "metadata": {},
   "source": [
    "## Put it all together"
   ]
  },
  {
   "cell_type": "code",
   "execution_count": 28,
   "id": "1d5bd90f",
   "metadata": {},
   "outputs": [
    {
     "data": {
      "text/html": [
       "<div>\n",
       "<style scoped>\n",
       "    .dataframe tbody tr th:only-of-type {\n",
       "        vertical-align: middle;\n",
       "    }\n",
       "\n",
       "    .dataframe tbody tr th {\n",
       "        vertical-align: top;\n",
       "    }\n",
       "\n",
       "    .dataframe thead th {\n",
       "        text-align: right;\n",
       "    }\n",
       "</style>\n",
       "<table border=\"1\" class=\"dataframe\">\n",
       "  <thead>\n",
       "    <tr style=\"text-align: right;\">\n",
       "      <th></th>\n",
       "      <th>Year</th>\n",
       "      <th>Month</th>\n",
       "      <th>Day Of Month</th>\n",
       "      <th>Day Of Year</th>\n",
       "      <th>Day Of Week</th>\n",
       "      <th>Day Of Week Name</th>\n",
       "    </tr>\n",
       "  </thead>\n",
       "  <tbody>\n",
       "    <tr>\n",
       "      <th>0</th>\n",
       "      <td>2017</td>\n",
       "      <td>1</td>\n",
       "      <td>1</td>\n",
       "      <td>1</td>\n",
       "      <td>6</td>\n",
       "      <td>Sunday</td>\n",
       "    </tr>\n",
       "    <tr>\n",
       "      <th>1</th>\n",
       "      <td>2017</td>\n",
       "      <td>1</td>\n",
       "      <td>1</td>\n",
       "      <td>1</td>\n",
       "      <td>6</td>\n",
       "      <td>Sunday</td>\n",
       "    </tr>\n",
       "    <tr>\n",
       "      <th>2</th>\n",
       "      <td>2017</td>\n",
       "      <td>1</td>\n",
       "      <td>1</td>\n",
       "      <td>1</td>\n",
       "      <td>6</td>\n",
       "      <td>Sunday</td>\n",
       "    </tr>\n",
       "    <tr>\n",
       "      <th>3</th>\n",
       "      <td>2017</td>\n",
       "      <td>1</td>\n",
       "      <td>1</td>\n",
       "      <td>1</td>\n",
       "      <td>6</td>\n",
       "      <td>Sunday</td>\n",
       "    </tr>\n",
       "    <tr>\n",
       "      <th>4</th>\n",
       "      <td>2017</td>\n",
       "      <td>1</td>\n",
       "      <td>1</td>\n",
       "      <td>1</td>\n",
       "      <td>6</td>\n",
       "      <td>Sunday</td>\n",
       "    </tr>\n",
       "  </tbody>\n",
       "</table>\n",
       "</div>"
      ],
      "text/plain": [
       "   Year  Month  Day Of Month  Day Of Year  Day Of Week Day Of Week Name\n",
       "0  2017      1             1            1            6           Sunday\n",
       "1  2017      1             1            1            6           Sunday\n",
       "2  2017      1             1            1            6           Sunday\n",
       "3  2017      1             1            1            6           Sunday\n",
       "4  2017      1             1            1            6           Sunday"
      ]
     },
     "execution_count": 28,
     "metadata": {},
     "output_type": "execute_result"
    }
   ],
   "source": [
    "date_data = pd.DataFrame({\"Year\": data['Date'].dt.year,\n",
    "              \"Month\": data['Date'].dt.month,\n",
    "              \"Day Of Month\": data['Date'].dt.day,\n",
    "              \"Day Of Year\": data['Date'].dt.dayofyear,\n",
    "              \"Day Of Week\": data['Date'].dt.dayofweek,\n",
    "              \"Day Of Week Name\": data['Date'].dt.day_name()\n",
    "             })\n",
    "date_data.head()"
   ]
  },
  {
   "cell_type": "code",
   "execution_count": null,
   "id": "c728e091",
   "metadata": {},
   "outputs": [],
   "source": []
  },
  {
   "cell_type": "code",
   "execution_count": 29,
   "id": "021df400",
   "metadata": {},
   "outputs": [
    {
     "data": {
      "text/plain": [
       "(3440540, 6)"
      ]
     },
     "execution_count": 29,
     "metadata": {},
     "output_type": "execute_result"
    }
   ],
   "source": [
    "data.shape"
   ]
  },
  {
   "cell_type": "code",
   "execution_count": 30,
   "id": "89230d2b",
   "metadata": {},
   "outputs": [
    {
     "data": {
      "text/plain": [
       "(3440540, 6)"
      ]
     },
     "execution_count": 30,
     "metadata": {},
     "output_type": "execute_result"
    }
   ],
   "source": [
    "date_data.shape"
   ]
  },
  {
   "cell_type": "markdown",
   "id": "bc2d4fa1",
   "metadata": {},
   "source": [
    "joining date_data to main data"
   ]
  },
  {
   "cell_type": "code",
   "execution_count": 31,
   "id": "f53eae6c",
   "metadata": {},
   "outputs": [],
   "source": [
    "data=data.join(date_data.set_index(data.index), on=data.index).copy()"
   ]
  },
  {
   "cell_type": "markdown",
   "id": "a1dc188f",
   "metadata": {},
   "source": [
    "removing date column"
   ]
  },
  {
   "cell_type": "code",
   "execution_count": 32,
   "id": "761fc5ec",
   "metadata": {},
   "outputs": [],
   "source": [
    "data.drop(['Date'], axis=1,inplace=True)"
   ]
  },
  {
   "cell_type": "code",
   "execution_count": 33,
   "id": "e77c3122",
   "metadata": {},
   "outputs": [
    {
     "data": {
      "text/html": [
       "<div>\n",
       "<style scoped>\n",
       "    .dataframe tbody tr th:only-of-type {\n",
       "        vertical-align: middle;\n",
       "    }\n",
       "\n",
       "    .dataframe tbody tr th {\n",
       "        vertical-align: top;\n",
       "    }\n",
       "\n",
       "    .dataframe thead th {\n",
       "        text-align: right;\n",
       "    }\n",
       "</style>\n",
       "<table border=\"1\" class=\"dataframe\">\n",
       "  <thead>\n",
       "    <tr style=\"text-align: right;\">\n",
       "      <th></th>\n",
       "      <th>Position</th>\n",
       "      <th>Track Name</th>\n",
       "      <th>Artist</th>\n",
       "      <th>Streams</th>\n",
       "      <th>Region</th>\n",
       "      <th>Year</th>\n",
       "      <th>Month</th>\n",
       "      <th>Day Of Month</th>\n",
       "      <th>Day Of Year</th>\n",
       "      <th>Day Of Week</th>\n",
       "      <th>Day Of Week Name</th>\n",
       "    </tr>\n",
       "  </thead>\n",
       "  <tbody>\n",
       "    <tr>\n",
       "      <th>0</th>\n",
       "      <td>1</td>\n",
       "      <td>12081</td>\n",
       "      <td>897</td>\n",
       "      <td>19272</td>\n",
       "      <td>15</td>\n",
       "      <td>2017</td>\n",
       "      <td>1</td>\n",
       "      <td>1</td>\n",
       "      <td>1</td>\n",
       "      <td>6</td>\n",
       "      <td>Sunday</td>\n",
       "    </tr>\n",
       "    <tr>\n",
       "      <th>1</th>\n",
       "      <td>2</td>\n",
       "      <td>2412</td>\n",
       "      <td>5194</td>\n",
       "      <td>19270</td>\n",
       "      <td>15</td>\n",
       "      <td>2017</td>\n",
       "      <td>1</td>\n",
       "      <td>1</td>\n",
       "      <td>1</td>\n",
       "      <td>6</td>\n",
       "      <td>Sunday</td>\n",
       "    </tr>\n",
       "    <tr>\n",
       "      <th>2</th>\n",
       "      <td>3</td>\n",
       "      <td>10924</td>\n",
       "      <td>6331</td>\n",
       "      <td>15761</td>\n",
       "      <td>15</td>\n",
       "      <td>2017</td>\n",
       "      <td>1</td>\n",
       "      <td>1</td>\n",
       "      <td>1</td>\n",
       "      <td>6</td>\n",
       "      <td>Sunday</td>\n",
       "    </tr>\n",
       "    <tr>\n",
       "      <th>3</th>\n",
       "      <td>4</td>\n",
       "      <td>15445</td>\n",
       "      <td>4854</td>\n",
       "      <td>14954</td>\n",
       "      <td>15</td>\n",
       "      <td>2017</td>\n",
       "      <td>1</td>\n",
       "      <td>1</td>\n",
       "      <td>1</td>\n",
       "      <td>6</td>\n",
       "      <td>Sunday</td>\n",
       "    </tr>\n",
       "    <tr>\n",
       "      <th>4</th>\n",
       "      <td>5</td>\n",
       "      <td>12461</td>\n",
       "      <td>2523</td>\n",
       "      <td>14269</td>\n",
       "      <td>15</td>\n",
       "      <td>2017</td>\n",
       "      <td>1</td>\n",
       "      <td>1</td>\n",
       "      <td>1</td>\n",
       "      <td>6</td>\n",
       "      <td>Sunday</td>\n",
       "    </tr>\n",
       "  </tbody>\n",
       "</table>\n",
       "</div>"
      ],
      "text/plain": [
       "   Position  Track Name  Artist  Streams  Region  Year  Month  Day Of Month  \\\n",
       "0         1       12081     897    19272      15  2017      1             1   \n",
       "1         2        2412    5194    19270      15  2017      1             1   \n",
       "2         3       10924    6331    15761      15  2017      1             1   \n",
       "3         4       15445    4854    14954      15  2017      1             1   \n",
       "4         5       12461    2523    14269      15  2017      1             1   \n",
       "\n",
       "   Day Of Year  Day Of Week Day Of Week Name  \n",
       "0            1            6           Sunday  \n",
       "1            1            6           Sunday  \n",
       "2            1            6           Sunday  \n",
       "3            1            6           Sunday  \n",
       "4            1            6           Sunday  "
      ]
     },
     "execution_count": 33,
     "metadata": {},
     "output_type": "execute_result"
    }
   ],
   "source": [
    "data.head()"
   ]
  },
  {
   "cell_type": "markdown",
   "id": "3893cf64",
   "metadata": {},
   "source": [
    "we will need Day Of Week Name for eda but we dont need for forecasting so temporarily removing it"
   ]
  },
  {
   "cell_type": "code",
   "execution_count": 34,
   "id": "102fde3f",
   "metadata": {
    "scrolled": true
   },
   "outputs": [
    {
     "data": {
      "text/html": [
       "<div>\n",
       "<style scoped>\n",
       "    .dataframe tbody tr th:only-of-type {\n",
       "        vertical-align: middle;\n",
       "    }\n",
       "\n",
       "    .dataframe tbody tr th {\n",
       "        vertical-align: top;\n",
       "    }\n",
       "\n",
       "    .dataframe thead th {\n",
       "        text-align: right;\n",
       "    }\n",
       "</style>\n",
       "<table border=\"1\" class=\"dataframe\">\n",
       "  <thead>\n",
       "    <tr style=\"text-align: right;\">\n",
       "      <th></th>\n",
       "      <th>Position</th>\n",
       "      <th>Track Name</th>\n",
       "      <th>Artist</th>\n",
       "      <th>Streams</th>\n",
       "      <th>Region</th>\n",
       "      <th>Year</th>\n",
       "      <th>Month</th>\n",
       "      <th>Day Of Month</th>\n",
       "      <th>Day Of Year</th>\n",
       "      <th>Day Of Week</th>\n",
       "    </tr>\n",
       "  </thead>\n",
       "  <tbody>\n",
       "    <tr>\n",
       "      <th>0</th>\n",
       "      <td>1</td>\n",
       "      <td>12081</td>\n",
       "      <td>897</td>\n",
       "      <td>19272</td>\n",
       "      <td>15</td>\n",
       "      <td>2017</td>\n",
       "      <td>1</td>\n",
       "      <td>1</td>\n",
       "      <td>1</td>\n",
       "      <td>6</td>\n",
       "    </tr>\n",
       "    <tr>\n",
       "      <th>1</th>\n",
       "      <td>2</td>\n",
       "      <td>2412</td>\n",
       "      <td>5194</td>\n",
       "      <td>19270</td>\n",
       "      <td>15</td>\n",
       "      <td>2017</td>\n",
       "      <td>1</td>\n",
       "      <td>1</td>\n",
       "      <td>1</td>\n",
       "      <td>6</td>\n",
       "    </tr>\n",
       "    <tr>\n",
       "      <th>2</th>\n",
       "      <td>3</td>\n",
       "      <td>10924</td>\n",
       "      <td>6331</td>\n",
       "      <td>15761</td>\n",
       "      <td>15</td>\n",
       "      <td>2017</td>\n",
       "      <td>1</td>\n",
       "      <td>1</td>\n",
       "      <td>1</td>\n",
       "      <td>6</td>\n",
       "    </tr>\n",
       "    <tr>\n",
       "      <th>3</th>\n",
       "      <td>4</td>\n",
       "      <td>15445</td>\n",
       "      <td>4854</td>\n",
       "      <td>14954</td>\n",
       "      <td>15</td>\n",
       "      <td>2017</td>\n",
       "      <td>1</td>\n",
       "      <td>1</td>\n",
       "      <td>1</td>\n",
       "      <td>6</td>\n",
       "    </tr>\n",
       "    <tr>\n",
       "      <th>4</th>\n",
       "      <td>5</td>\n",
       "      <td>12461</td>\n",
       "      <td>2523</td>\n",
       "      <td>14269</td>\n",
       "      <td>15</td>\n",
       "      <td>2017</td>\n",
       "      <td>1</td>\n",
       "      <td>1</td>\n",
       "      <td>1</td>\n",
       "      <td>6</td>\n",
       "    </tr>\n",
       "  </tbody>\n",
       "</table>\n",
       "</div>"
      ],
      "text/plain": [
       "   Position  Track Name  Artist  Streams  Region  Year  Month  Day Of Month  \\\n",
       "0         1       12081     897    19272      15  2017      1             1   \n",
       "1         2        2412    5194    19270      15  2017      1             1   \n",
       "2         3       10924    6331    15761      15  2017      1             1   \n",
       "3         4       15445    4854    14954      15  2017      1             1   \n",
       "4         5       12461    2523    14269      15  2017      1             1   \n",
       "\n",
       "   Day Of Year  Day Of Week  \n",
       "0            1            6  \n",
       "1            1            6  \n",
       "2            1            6  \n",
       "3            1            6  \n",
       "4            1            6  "
      ]
     },
     "execution_count": 34,
     "metadata": {},
     "output_type": "execute_result"
    }
   ],
   "source": [
    "data.drop(['Day Of Week Name'], axis=1,inplace=True)\n",
    "data.head()"
   ]
  },
  {
   "cell_type": "code",
   "execution_count": 35,
   "id": "d29bcebb",
   "metadata": {},
   "outputs": [
    {
     "data": {
      "text/plain": [
       "(3440540, 10)"
      ]
     },
     "execution_count": 35,
     "metadata": {},
     "output_type": "execute_result"
    }
   ],
   "source": [
    "data.shape"
   ]
  },
  {
   "cell_type": "markdown",
   "id": "2de2e632",
   "metadata": {},
   "source": [
    "basic analysis"
   ]
  },
  {
   "cell_type": "markdown",
   "id": "52c989b1",
   "metadata": {},
   "source": [
    "positions are rankings of tracks from 1 to 200"
   ]
  },
  {
   "cell_type": "code",
   "execution_count": 36,
   "id": "a053efb8",
   "metadata": {},
   "outputs": [
    {
     "data": {
      "text/plain": [
       "1      19667\n",
       "7      19660\n",
       "6      19659\n",
       "5      19655\n",
       "8      19654\n",
       "       ...  \n",
       "196    14448\n",
       "197    14434\n",
       "198    14421\n",
       "199    14411\n",
       "200    14402\n",
       "Name: Position, Length: 200, dtype: int64"
      ]
     },
     "execution_count": 36,
     "metadata": {},
     "output_type": "execute_result"
    }
   ],
   "source": [
    "data['Position'].value_counts()"
   ]
  },
  {
   "cell_type": "code",
   "execution_count": 37,
   "id": "4908fd33",
   "metadata": {},
   "outputs": [
    {
     "data": {
      "text/plain": [
       "200"
      ]
     },
     "execution_count": 37,
     "metadata": {},
     "output_type": "execute_result"
    }
   ],
   "source": [
    "len(data['Position'].value_counts())"
   ]
  },
  {
   "cell_type": "markdown",
   "id": "0cbe6508",
   "metadata": {},
   "source": [
    "postion 1 "
   ]
  },
  {
   "cell_type": "code",
   "execution_count": 38,
   "id": "2aefb471",
   "metadata": {},
   "outputs": [
    {
     "data": {
      "text/plain": [
       "12905    3639\n",
       "3342     2342\n",
       "16725    1690\n",
       "3341     1560\n",
       "9310     1180\n",
       "         ... \n",
       "16609       1\n",
       "12178       1\n",
       "15628       1\n",
       "7677        1\n",
       "8226        1\n",
       "Name: Track Name, Length: 256, dtype: int64"
      ]
     },
     "execution_count": 38,
     "metadata": {},
     "output_type": "execute_result"
    }
   ],
   "source": [
    "data[data['Position']==1]['Track Name'].value_counts()"
   ]
  },
  {
   "cell_type": "markdown",
   "id": "624229eb",
   "metadata": {},
   "source": [
    "on postion 1 we have 256 tracks for example"
   ]
  },
  {
   "cell_type": "code",
   "execution_count": 39,
   "id": "28327c81",
   "metadata": {},
   "outputs": [
    {
     "data": {
      "text/plain": [
       "256"
      ]
     },
     "execution_count": 39,
     "metadata": {},
     "output_type": "execute_result"
    }
   ],
   "source": [
    "len(data[data['Position']==1]['Track Name'].value_counts())"
   ]
  },
  {
   "cell_type": "markdown",
   "id": "f33dd84f",
   "metadata": {},
   "source": [
    "position 200"
   ]
  },
  {
   "cell_type": "code",
   "execution_count": 40,
   "id": "0d06c6e7",
   "metadata": {},
   "outputs": [
    {
     "data": {
      "text/plain": [
       "16216    75\n",
       "8206     62\n",
       "13641    60\n",
       "8672     55\n",
       "258      50\n",
       "         ..\n",
       "13626     1\n",
       "12563     1\n",
       "5561      1\n",
       "9514      1\n",
       "18438     1\n",
       "Name: Track Name, Length: 4151, dtype: int64"
      ]
     },
     "execution_count": 40,
     "metadata": {},
     "output_type": "execute_result"
    }
   ],
   "source": [
    "data[data['Position']==200]['Track Name'].value_counts()"
   ]
  },
  {
   "cell_type": "markdown",
   "id": "121befc7",
   "metadata": {},
   "source": [
    " on postion 200 we have 4151 tracks for example"
   ]
  },
  {
   "cell_type": "code",
   "execution_count": 41,
   "id": "6d845fab",
   "metadata": {},
   "outputs": [
    {
     "data": {
      "text/plain": [
       "4151"
      ]
     },
     "execution_count": 41,
     "metadata": {},
     "output_type": "execute_result"
    }
   ],
   "source": [
    "len(data[data['Position']==200]['Track Name'].value_counts())"
   ]
  },
  {
   "cell_type": "markdown",
   "id": "906bcd8f",
   "metadata": {},
   "source": [
    "track name and artist"
   ]
  },
  {
   "cell_type": "code",
   "execution_count": 42,
   "id": "e6e22372",
   "metadata": {},
   "outputs": [
    {
     "data": {
      "text/plain": [
       "12905    19365\n",
       "1538     16775\n",
       "3341     16284\n",
       "13414    16194\n",
       "12235    16177\n",
       "         ...  \n",
       "13929        1\n",
       "9759         1\n",
       "11631        1\n",
       "15954        1\n",
       "18135        1\n",
       "Name: Track Name, Length: 18597, dtype: int64"
      ]
     },
     "execution_count": 42,
     "metadata": {},
     "output_type": "execute_result"
    }
   ],
   "source": [
    "data['Track Name'].value_counts()"
   ]
  },
  {
   "cell_type": "code",
   "execution_count": 43,
   "id": "bb84fcc0",
   "metadata": {},
   "outputs": [
    {
     "data": {
      "text/plain": [
       "18597"
      ]
     },
     "execution_count": 43,
     "metadata": {},
     "output_type": "execute_result"
    }
   ],
   "source": [
    "len(data['Track Name'].value_counts())"
   ]
  },
  {
   "cell_type": "code",
   "execution_count": 44,
   "id": "47bb85ab",
   "metadata": {},
   "outputs": [
    {
     "data": {
      "text/plain": [
       "305774     1719\n",
       "1703107    1719\n",
       "1704313    1719\n",
       "1704468    1719\n",
       "1705703    1719\n",
       "1705880    1719\n",
       "1804109    1719\n",
       "2141150    1719\n",
       "2565583    1719\n",
       "2566789    1719\n",
       "2566962    1719\n",
       "2568174    1719\n",
       "2568373    1719\n",
       "Name: Artist, dtype: int64"
      ]
     },
     "execution_count": 44,
     "metadata": {},
     "output_type": "execute_result"
    }
   ],
   "source": [
    "data[data['Track Name']==1]['Artist']"
   ]
  },
  {
   "cell_type": "code",
   "execution_count": 45,
   "id": "d6d5378c",
   "metadata": {},
   "outputs": [
    {
     "data": {
      "text/plain": [
       "643779     15\n",
       "643979     15\n",
       "644176     15\n",
       "644389     15\n",
       "801485     15\n",
       "           ..\n",
       "3161987    15\n",
       "3162193    15\n",
       "3162395    15\n",
       "3162597    15\n",
       "3162794    15\n",
       "Name: Artist, Length: 457, dtype: int64"
      ]
     },
     "execution_count": 45,
     "metadata": {},
     "output_type": "execute_result"
    }
   ],
   "source": [
    "data[data['Track Name']==200]['Artist']"
   ]
  },
  {
   "cell_type": "markdown",
   "id": "05856982",
   "metadata": {},
   "source": [
    "note for each track name there is one and only one artist so each track corresponds to one artist so for prediction artist variable is not required, for eda visualization and data analysis though we will require artist name and trck name"
   ]
  },
  {
   "cell_type": "markdown",
   "id": "367b6500",
   "metadata": {},
   "source": [
    "## making model"
   ]
  },
  {
   "cell_type": "markdown",
   "id": "adc42c96",
   "metadata": {},
   "source": [
    "target column is position"
   ]
  },
  {
   "cell_type": "code",
   "execution_count": null,
   "id": "b9eabfe0",
   "metadata": {},
   "outputs": [],
   "source": [
    "target='Position'"
   ]
  },
  {
   "cell_type": "markdown",
   "id": "e4344a58",
   "metadata": {},
   "source": [
    "train, validation and test datasets"
   ]
  },
  {
   "cell_type": "code",
   "execution_count": null,
   "id": "6aaea540",
   "metadata": {},
   "outputs": [],
   "source": []
  },
  {
   "cell_type": "code",
   "execution_count": null,
   "id": "d9ebeb4f",
   "metadata": {},
   "outputs": [],
   "source": []
  },
  {
   "cell_type": "code",
   "execution_count": null,
   "id": "167998c8",
   "metadata": {},
   "outputs": [],
   "source": []
  },
  {
   "cell_type": "code",
   "execution_count": null,
   "id": "dfc4840d",
   "metadata": {},
   "outputs": [],
   "source": []
  },
  {
   "cell_type": "code",
   "execution_count": null,
   "id": "ca7b8ef5",
   "metadata": {},
   "outputs": [],
   "source": []
  },
  {
   "cell_type": "code",
   "execution_count": null,
   "id": "a28f3283",
   "metadata": {},
   "outputs": [],
   "source": []
  }
 ],
 "metadata": {
  "kernelspec": {
   "display_name": "Python 3 (ipykernel)",
   "language": "python",
   "name": "python3"
  },
  "language_info": {
   "codemirror_mode": {
    "name": "ipython",
    "version": 3
   },
   "file_extension": ".py",
   "mimetype": "text/x-python",
   "name": "python",
   "nbconvert_exporter": "python",
   "pygments_lexer": "ipython3",
   "version": "3.9.13"
  }
 },
 "nbformat": 4,
 "nbformat_minor": 5
}

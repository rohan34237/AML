{
 "cells": [
  {
   "cell_type": "code",
   "execution_count": 6,
   "id": "bc9fbac6",
   "metadata": {},
   "outputs": [],
   "source": [
    "#importing libraries \n",
    "import pandas as pd \n",
    "import numpy as np\n",
    "import matplotlib.pyplot as plt\n",
    "import seaborn as sns\n",
    "%matplotlib inline\n",
    "import sklearn\n",
    "import math"
   ]
  },
  {
   "cell_type": "code",
   "execution_count": 7,
   "id": "33f49d19",
   "metadata": {},
   "outputs": [],
   "source": [
    "from sklearn import preprocessing\n",
    "from sklearn.linear_model import Ridge\n",
    "from sklearn.metrics import f1_score as f1\n",
    "from sklearn.preprocessing import LabelEncoder\n",
    "from sklearn.preprocessing import MinMaxScaler\n",
    "from sklearn.linear_model import LogisticRegression as logreg\n",
    "from sklearn.linear_model import LinearRegression as linreg\n",
    "from sklearn.metrics import mean_squared_error as rmse\n",
    "import pickle # to save the model\n",
    "\n",
    "from sklearn.model_selection import KFold, StratifiedKFold, train_test_split\n",
    "from sklearn.metrics import roc_auc_score ,roc_auc_score as auc, accuracy_score as acc, confusion_matrix, roc_curve, precision_score, recall_score, precision_recall_curve,average_precision_score,average_precision_score as aps,log_loss as ll\n",
    "\n",
    "from pandas.core.common import SettingWithCopyWarning\n",
    "from sklearn.exceptions import FitFailedWarning\n",
    "import warnings\n",
    "warnings.simplefilter(action='ignore', category=FitFailedWarning)\n",
    "warnings.simplefilter(action='ignore', category=FutureWarning)\n",
    "warnings.simplefilter(action='ignore', category=UserWarning)\n",
    "warnings.simplefilter(action='ignore', category=RuntimeWarning)\n",
    "warnings.simplefilter(action='ignore', category=SettingWithCopyWarning)\n",
    "warnings.simplefilter(action='ignore', category=pd.errors.PerformanceWarning)"
   ]
  },
  {
   "cell_type": "code",
   "execution_count": 8,
   "id": "1a41fa07",
   "metadata": {},
   "outputs": [],
   "source": [
    "from sklearn.tree import DecisionTreeRegressor as dtr,export_graphviz\n",
    "from sklearn.model_selection import GridSearchCV as gs, RandomizedSearchCV as rs\n",
    "from sklearn.metrics import make_scorer\n",
    "#import graphviz"
   ]
  },
  {
   "cell_type": "markdown",
   "id": "31cff8ed",
   "metadata": {},
   "source": [
    "## random state"
   ]
  },
  {
   "cell_type": "code",
   "execution_count": 9,
   "id": "e1fb2983",
   "metadata": {},
   "outputs": [],
   "source": [
    "r=6"
   ]
  },
  {
   "cell_type": "code",
   "execution_count": 10,
   "id": "72f06f64",
   "metadata": {},
   "outputs": [
    {
     "data": {
      "text/html": [
       "<div>\n",
       "<style scoped>\n",
       "    .dataframe tbody tr th:only-of-type {\n",
       "        vertical-align: middle;\n",
       "    }\n",
       "\n",
       "    .dataframe tbody tr th {\n",
       "        vertical-align: top;\n",
       "    }\n",
       "\n",
       "    .dataframe thead th {\n",
       "        text-align: right;\n",
       "    }\n",
       "</style>\n",
       "<table border=\"1\" class=\"dataframe\">\n",
       "  <thead>\n",
       "    <tr style=\"text-align: right;\">\n",
       "      <th></th>\n",
       "      <th>Position</th>\n",
       "      <th>Track Name</th>\n",
       "      <th>Artist</th>\n",
       "      <th>Streams</th>\n",
       "      <th>URL</th>\n",
       "      <th>Date</th>\n",
       "      <th>Region</th>\n",
       "    </tr>\n",
       "  </thead>\n",
       "  <tbody>\n",
       "    <tr>\n",
       "      <th>0</th>\n",
       "      <td>1</td>\n",
       "      <td>Reggaetón Lento (Bailemos)</td>\n",
       "      <td>CNCO</td>\n",
       "      <td>19272</td>\n",
       "      <td>https://open.spotify.com/track/3AEZUABDXNtecAO...</td>\n",
       "      <td>2017-01-01</td>\n",
       "      <td>ec</td>\n",
       "    </tr>\n",
       "    <tr>\n",
       "      <th>1</th>\n",
       "      <td>2</td>\n",
       "      <td>Chantaje</td>\n",
       "      <td>Shakira</td>\n",
       "      <td>19270</td>\n",
       "      <td>https://open.spotify.com/track/6mICuAdrwEjh6Y6...</td>\n",
       "      <td>2017-01-01</td>\n",
       "      <td>ec</td>\n",
       "    </tr>\n",
       "    <tr>\n",
       "      <th>2</th>\n",
       "      <td>3</td>\n",
       "      <td>Otra Vez (feat. J Balvin)</td>\n",
       "      <td>Zion &amp; Lennox</td>\n",
       "      <td>15761</td>\n",
       "      <td>https://open.spotify.com/track/3QwBODjSEzelZyV...</td>\n",
       "      <td>2017-01-01</td>\n",
       "      <td>ec</td>\n",
       "    </tr>\n",
       "    <tr>\n",
       "      <th>3</th>\n",
       "      <td>4</td>\n",
       "      <td>Vente Pa' Ca</td>\n",
       "      <td>Ricky Martin</td>\n",
       "      <td>14954</td>\n",
       "      <td>https://open.spotify.com/track/7DM4BPaS7uofFul...</td>\n",
       "      <td>2017-01-01</td>\n",
       "      <td>ec</td>\n",
       "    </tr>\n",
       "    <tr>\n",
       "      <th>4</th>\n",
       "      <td>5</td>\n",
       "      <td>Safari</td>\n",
       "      <td>J Balvin</td>\n",
       "      <td>14269</td>\n",
       "      <td>https://open.spotify.com/track/6rQSrBHf7HlZjtc...</td>\n",
       "      <td>2017-01-01</td>\n",
       "      <td>ec</td>\n",
       "    </tr>\n",
       "  </tbody>\n",
       "</table>\n",
       "</div>"
      ],
      "text/plain": [
       "   Position                  Track Name         Artist  Streams  \\\n",
       "0         1  Reggaetón Lento (Bailemos)           CNCO    19272   \n",
       "1         2                    Chantaje        Shakira    19270   \n",
       "2         3   Otra Vez (feat. J Balvin)  Zion & Lennox    15761   \n",
       "3         4                Vente Pa' Ca   Ricky Martin    14954   \n",
       "4         5                      Safari       J Balvin    14269   \n",
       "\n",
       "                                                 URL        Date Region  \n",
       "0  https://open.spotify.com/track/3AEZUABDXNtecAO...  2017-01-01     ec  \n",
       "1  https://open.spotify.com/track/6mICuAdrwEjh6Y6...  2017-01-01     ec  \n",
       "2  https://open.spotify.com/track/3QwBODjSEzelZyV...  2017-01-01     ec  \n",
       "3  https://open.spotify.com/track/7DM4BPaS7uofFul...  2017-01-01     ec  \n",
       "4  https://open.spotify.com/track/6rQSrBHf7HlZjtc...  2017-01-01     ec  "
      ]
     },
     "execution_count": 10,
     "metadata": {},
     "output_type": "execute_result"
    }
   ],
   "source": [
    "data = pd.read_csv('spotify_data.csv')\n",
    "data.head()"
   ]
  },
  {
   "cell_type": "markdown",
   "id": "80447ff3",
   "metadata": {},
   "source": [
    "## Missing Value"
   ]
  },
  {
   "cell_type": "code",
   "execution_count": 11,
   "id": "d513cb60",
   "metadata": {},
   "outputs": [
    {
     "data": {
      "text/plain": [
       "Position        0\n",
       "Track Name    657\n",
       "Artist        657\n",
       "Streams         0\n",
       "URL             8\n",
       "Date            0\n",
       "Region          0\n",
       "dtype: int64"
      ]
     },
     "execution_count": 11,
     "metadata": {},
     "output_type": "execute_result"
    }
   ],
   "source": [
    "data.isnull().sum()"
   ]
  },
  {
   "cell_type": "code",
   "execution_count": 12,
   "id": "17e4dc86",
   "metadata": {},
   "outputs": [],
   "source": [
    "data.dropna(inplace=True)"
   ]
  },
  {
   "cell_type": "markdown",
   "id": "d4f7db2b",
   "metadata": {},
   "source": [
    "## Preprocessing"
   ]
  },
  {
   "cell_type": "markdown",
   "id": "1eb4508d",
   "metadata": {},
   "source": [
    "### track_names"
   ]
  },
  {
   "cell_type": "code",
   "execution_count": 13,
   "id": "c32be7e7",
   "metadata": {},
   "outputs": [
    {
     "data": {
      "text/html": [
       "<div>\n",
       "<style scoped>\n",
       "    .dataframe tbody tr th:only-of-type {\n",
       "        vertical-align: middle;\n",
       "    }\n",
       "\n",
       "    .dataframe tbody tr th {\n",
       "        vertical-align: top;\n",
       "    }\n",
       "\n",
       "    .dataframe thead th {\n",
       "        text-align: right;\n",
       "    }\n",
       "</style>\n",
       "<table border=\"1\" class=\"dataframe\">\n",
       "  <thead>\n",
       "    <tr style=\"text-align: right;\">\n",
       "      <th></th>\n",
       "      <th>Position</th>\n",
       "      <th>Track Name</th>\n",
       "      <th>Artist</th>\n",
       "      <th>Streams</th>\n",
       "      <th>URL</th>\n",
       "      <th>Date</th>\n",
       "      <th>Region</th>\n",
       "    </tr>\n",
       "  </thead>\n",
       "  <tbody>\n",
       "    <tr>\n",
       "      <th>0</th>\n",
       "      <td>1</td>\n",
       "      <td>Reggaetón Lento (Bailemos)</td>\n",
       "      <td>CNCO</td>\n",
       "      <td>19272</td>\n",
       "      <td>https://open.spotify.com/track/3AEZUABDXNtecAO...</td>\n",
       "      <td>2017-01-01</td>\n",
       "      <td>ec</td>\n",
       "    </tr>\n",
       "    <tr>\n",
       "      <th>1</th>\n",
       "      <td>2</td>\n",
       "      <td>Chantaje</td>\n",
       "      <td>Shakira</td>\n",
       "      <td>19270</td>\n",
       "      <td>https://open.spotify.com/track/6mICuAdrwEjh6Y6...</td>\n",
       "      <td>2017-01-01</td>\n",
       "      <td>ec</td>\n",
       "    </tr>\n",
       "    <tr>\n",
       "      <th>2</th>\n",
       "      <td>3</td>\n",
       "      <td>Otra Vez (feat. J Balvin)</td>\n",
       "      <td>Zion &amp; Lennox</td>\n",
       "      <td>15761</td>\n",
       "      <td>https://open.spotify.com/track/3QwBODjSEzelZyV...</td>\n",
       "      <td>2017-01-01</td>\n",
       "      <td>ec</td>\n",
       "    </tr>\n",
       "    <tr>\n",
       "      <th>3</th>\n",
       "      <td>4</td>\n",
       "      <td>Vente Pa' Ca</td>\n",
       "      <td>Ricky Martin</td>\n",
       "      <td>14954</td>\n",
       "      <td>https://open.spotify.com/track/7DM4BPaS7uofFul...</td>\n",
       "      <td>2017-01-01</td>\n",
       "      <td>ec</td>\n",
       "    </tr>\n",
       "    <tr>\n",
       "      <th>4</th>\n",
       "      <td>5</td>\n",
       "      <td>Safari</td>\n",
       "      <td>J Balvin</td>\n",
       "      <td>14269</td>\n",
       "      <td>https://open.spotify.com/track/6rQSrBHf7HlZjtc...</td>\n",
       "      <td>2017-01-01</td>\n",
       "      <td>ec</td>\n",
       "    </tr>\n",
       "  </tbody>\n",
       "</table>\n",
       "</div>"
      ],
      "text/plain": [
       "   Position                  Track Name         Artist  Streams  \\\n",
       "0         1  Reggaetón Lento (Bailemos)           CNCO    19272   \n",
       "1         2                    Chantaje        Shakira    19270   \n",
       "2         3   Otra Vez (feat. J Balvin)  Zion & Lennox    15761   \n",
       "3         4                Vente Pa' Ca   Ricky Martin    14954   \n",
       "4         5                      Safari       J Balvin    14269   \n",
       "\n",
       "                                                 URL        Date Region  \n",
       "0  https://open.spotify.com/track/3AEZUABDXNtecAO...  2017-01-01     ec  \n",
       "1  https://open.spotify.com/track/6mICuAdrwEjh6Y6...  2017-01-01     ec  \n",
       "2  https://open.spotify.com/track/3QwBODjSEzelZyV...  2017-01-01     ec  \n",
       "3  https://open.spotify.com/track/7DM4BPaS7uofFul...  2017-01-01     ec  \n",
       "4  https://open.spotify.com/track/6rQSrBHf7HlZjtc...  2017-01-01     ec  "
      ]
     },
     "execution_count": 13,
     "metadata": {},
     "output_type": "execute_result"
    }
   ],
   "source": [
    "data.head()"
   ]
  },
  {
   "cell_type": "code",
   "execution_count": 14,
   "id": "dd1b20c9",
   "metadata": {},
   "outputs": [],
   "source": [
    "le = preprocessing.LabelEncoder()\n",
    "#data['Track Name']=le.fit_transform(data['Track Name'])\n",
    "data['Artist']=le.fit_transform(data['Artist'])\n",
    "#data['Region']=le.fit_transform(data['Region'])"
   ]
  },
  {
   "cell_type": "markdown",
   "id": "6ae1249d",
   "metadata": {},
   "source": [
    "removing url column"
   ]
  },
  {
   "cell_type": "code",
   "execution_count": 15,
   "id": "8b7b5e2d",
   "metadata": {},
   "outputs": [],
   "source": [
    "data.drop(['URL'], axis=1,inplace=True)"
   ]
  },
  {
   "cell_type": "code",
   "execution_count": 16,
   "id": "ab412ad2",
   "metadata": {},
   "outputs": [
    {
     "data": {
      "text/html": [
       "<div>\n",
       "<style scoped>\n",
       "    .dataframe tbody tr th:only-of-type {\n",
       "        vertical-align: middle;\n",
       "    }\n",
       "\n",
       "    .dataframe tbody tr th {\n",
       "        vertical-align: top;\n",
       "    }\n",
       "\n",
       "    .dataframe thead th {\n",
       "        text-align: right;\n",
       "    }\n",
       "</style>\n",
       "<table border=\"1\" class=\"dataframe\">\n",
       "  <thead>\n",
       "    <tr style=\"text-align: right;\">\n",
       "      <th></th>\n",
       "      <th>Position</th>\n",
       "      <th>Track Name</th>\n",
       "      <th>Artist</th>\n",
       "      <th>Streams</th>\n",
       "      <th>Date</th>\n",
       "      <th>Region</th>\n",
       "    </tr>\n",
       "  </thead>\n",
       "  <tbody>\n",
       "    <tr>\n",
       "      <th>0</th>\n",
       "      <td>1</td>\n",
       "      <td>Reggaetón Lento (Bailemos)</td>\n",
       "      <td>897</td>\n",
       "      <td>19272</td>\n",
       "      <td>2017-01-01</td>\n",
       "      <td>ec</td>\n",
       "    </tr>\n",
       "    <tr>\n",
       "      <th>1</th>\n",
       "      <td>2</td>\n",
       "      <td>Chantaje</td>\n",
       "      <td>5194</td>\n",
       "      <td>19270</td>\n",
       "      <td>2017-01-01</td>\n",
       "      <td>ec</td>\n",
       "    </tr>\n",
       "    <tr>\n",
       "      <th>2</th>\n",
       "      <td>3</td>\n",
       "      <td>Otra Vez (feat. J Balvin)</td>\n",
       "      <td>6331</td>\n",
       "      <td>15761</td>\n",
       "      <td>2017-01-01</td>\n",
       "      <td>ec</td>\n",
       "    </tr>\n",
       "    <tr>\n",
       "      <th>3</th>\n",
       "      <td>4</td>\n",
       "      <td>Vente Pa' Ca</td>\n",
       "      <td>4854</td>\n",
       "      <td>14954</td>\n",
       "      <td>2017-01-01</td>\n",
       "      <td>ec</td>\n",
       "    </tr>\n",
       "    <tr>\n",
       "      <th>4</th>\n",
       "      <td>5</td>\n",
       "      <td>Safari</td>\n",
       "      <td>2523</td>\n",
       "      <td>14269</td>\n",
       "      <td>2017-01-01</td>\n",
       "      <td>ec</td>\n",
       "    </tr>\n",
       "  </tbody>\n",
       "</table>\n",
       "</div>"
      ],
      "text/plain": [
       "   Position                  Track Name  Artist  Streams        Date Region\n",
       "0         1  Reggaetón Lento (Bailemos)     897    19272  2017-01-01     ec\n",
       "1         2                    Chantaje    5194    19270  2017-01-01     ec\n",
       "2         3   Otra Vez (feat. J Balvin)    6331    15761  2017-01-01     ec\n",
       "3         4                Vente Pa' Ca    4854    14954  2017-01-01     ec\n",
       "4         5                      Safari    2523    14269  2017-01-01     ec"
      ]
     },
     "execution_count": 16,
     "metadata": {},
     "output_type": "execute_result"
    }
   ],
   "source": [
    "data.head()"
   ]
  },
  {
   "cell_type": "markdown",
   "id": "6a0c19ce",
   "metadata": {},
   "source": [
    "## Date"
   ]
  },
  {
   "cell_type": "code",
   "execution_count": 17,
   "id": "fe974dc0",
   "metadata": {},
   "outputs": [
    {
     "data": {
      "text/plain": [
       "('2018-01-09', '2017-01-01')"
      ]
     },
     "execution_count": 17,
     "metadata": {},
     "output_type": "execute_result"
    }
   ],
   "source": [
    "data['Date'].max(), data['Date'].min()"
   ]
  },
  {
   "cell_type": "code",
   "execution_count": 18,
   "id": "8bc66b97",
   "metadata": {},
   "outputs": [
    {
     "data": {
      "text/plain": [
       "Position               int64\n",
       "Track Name            object\n",
       "Artist                 int64\n",
       "Streams                int64\n",
       "Date          datetime64[ns]\n",
       "Region                object\n",
       "dtype: object"
      ]
     },
     "execution_count": 18,
     "metadata": {},
     "output_type": "execute_result"
    }
   ],
   "source": [
    "data['Date'] = pd.to_datetime(data['Date'], format= '%Y-%m-%d')\n",
    "data.dtypes"
   ]
  },
  {
   "cell_type": "code",
   "execution_count": 19,
   "id": "090eef11",
   "metadata": {},
   "outputs": [
    {
     "data": {
      "text/plain": [
       "(Timestamp('2018-01-09 00:00:00'), Timestamp('2017-01-01 00:00:00'))"
      ]
     },
     "execution_count": 19,
     "metadata": {},
     "output_type": "execute_result"
    }
   ],
   "source": [
    "data['Date'].max(), data['Date'].min()"
   ]
  },
  {
   "cell_type": "markdown",
   "id": "39652a98",
   "metadata": {},
   "source": [
    "### extracting"
   ]
  },
  {
   "cell_type": "markdown",
   "id": "ac7f0598",
   "metadata": {},
   "source": [
    "year"
   ]
  },
  {
   "cell_type": "code",
   "execution_count": 20,
   "id": "900ec9e8",
   "metadata": {},
   "outputs": [
    {
     "data": {
      "text/plain": [
       "0          2017\n",
       "1          2017\n",
       "2          2017\n",
       "3          2017\n",
       "4          2017\n",
       "           ... \n",
       "3441192    2018\n",
       "3441193    2018\n",
       "3441194    2018\n",
       "3441195    2018\n",
       "3441196    2018\n",
       "Name: Date, Length: 3440540, dtype: int64"
      ]
     },
     "execution_count": 20,
     "metadata": {},
     "output_type": "execute_result"
    }
   ],
   "source": [
    "data['Date'].dt.year"
   ]
  },
  {
   "cell_type": "code",
   "execution_count": 21,
   "id": "39f74bb0",
   "metadata": {},
   "outputs": [
    {
     "data": {
      "text/plain": [
       "2017    3355829\n",
       "2018      84711\n",
       "Name: Date, dtype: int64"
      ]
     },
     "execution_count": 21,
     "metadata": {},
     "output_type": "execute_result"
    }
   ],
   "source": [
    "data['Date'].dt.year.value_counts()"
   ]
  },
  {
   "cell_type": "markdown",
   "id": "6edf539a",
   "metadata": {},
   "source": [
    "month"
   ]
  },
  {
   "cell_type": "code",
   "execution_count": 22,
   "id": "e7d86f27",
   "metadata": {},
   "outputs": [
    {
     "data": {
      "text/plain": [
       "0          1\n",
       "1          1\n",
       "2          1\n",
       "3          1\n",
       "4          1\n",
       "          ..\n",
       "3441192    1\n",
       "3441193    1\n",
       "3441194    1\n",
       "3441195    1\n",
       "3441196    1\n",
       "Name: Date, Length: 3440540, dtype: int64"
      ]
     },
     "execution_count": 22,
     "metadata": {},
     "output_type": "execute_result"
    }
   ],
   "source": [
    "data['Date'].dt.month"
   ]
  },
  {
   "cell_type": "code",
   "execution_count": 23,
   "id": "4f122632",
   "metadata": {},
   "outputs": [
    {
     "data": {
      "text/plain": [
       "1     361156\n",
       "12    297611\n",
       "7     290305\n",
       "10    289677\n",
       "8     289439\n",
       "3     285994\n",
       "11    280138\n",
       "9     280084\n",
       "4     274391\n",
       "6     269533\n",
       "5     268020\n",
       "2     254192\n",
       "Name: Date, dtype: int64"
      ]
     },
     "execution_count": 23,
     "metadata": {},
     "output_type": "execute_result"
    }
   ],
   "source": [
    "data['Date'].dt.month.value_counts()"
   ]
  },
  {
   "cell_type": "markdown",
   "id": "89b34cf2",
   "metadata": {},
   "source": [
    "day of month"
   ]
  },
  {
   "cell_type": "code",
   "execution_count": 24,
   "id": "a1479a54",
   "metadata": {},
   "outputs": [
    {
     "data": {
      "text/plain": [
       "0          1\n",
       "1          1\n",
       "2          1\n",
       "3          1\n",
       "4          1\n",
       "          ..\n",
       "3441192    9\n",
       "3441193    9\n",
       "3441194    9\n",
       "3441195    9\n",
       "3441196    9\n",
       "Name: Date, Length: 3440540, dtype: int64"
      ]
     },
     "execution_count": 24,
     "metadata": {},
     "output_type": "execute_result"
    }
   ],
   "source": [
    "data['Date'].dt.day"
   ]
  },
  {
   "cell_type": "code",
   "execution_count": 25,
   "id": "ed42be43",
   "metadata": {},
   "outputs": [
    {
     "data": {
      "text/plain": [
       "8    120677\n",
       "9    120677\n",
       "7    120522\n",
       "5    120435\n",
       "4    120404\n",
       "Name: Date, dtype: int64"
      ]
     },
     "execution_count": 25,
     "metadata": {},
     "output_type": "execute_result"
    }
   ],
   "source": [
    "data['Date'].dt.day.value_counts()[0:5]"
   ]
  },
  {
   "cell_type": "code",
   "execution_count": 26,
   "id": "cf38ed0f",
   "metadata": {},
   "outputs": [
    {
     "data": {
      "text/plain": [
       "31"
      ]
     },
     "execution_count": 26,
     "metadata": {},
     "output_type": "execute_result"
    }
   ],
   "source": [
    "len(data['Date'].dt.day.value_counts())"
   ]
  },
  {
   "cell_type": "markdown",
   "id": "9a1450fc",
   "metadata": {},
   "source": [
    "day of year"
   ]
  },
  {
   "cell_type": "code",
   "execution_count": 27,
   "id": "1ca743ee",
   "metadata": {},
   "outputs": [
    {
     "data": {
      "text/plain": [
       "0          1\n",
       "1          1\n",
       "2          1\n",
       "3          1\n",
       "4          1\n",
       "          ..\n",
       "3441192    9\n",
       "3441193    9\n",
       "3441194    9\n",
       "3441195    9\n",
       "3441196    9\n",
       "Name: Date, Length: 3440540, dtype: int64"
      ]
     },
     "execution_count": 27,
     "metadata": {},
     "output_type": "execute_result"
    }
   ],
   "source": [
    "data['Date'].dt.dayofyear"
   ]
  },
  {
   "cell_type": "code",
   "execution_count": 28,
   "id": "f37ee9d0",
   "metadata": {},
   "outputs": [
    {
     "data": {
      "text/plain": [
       "5     18432\n",
       "6     18402\n",
       "9     18389\n",
       "8     18220\n",
       "4     18197\n",
       "      ...  \n",
       "23     8891\n",
       "29     8889\n",
       "11     8875\n",
       "10     8840\n",
       "15     8829\n",
       "Name: Date, Length: 362, dtype: int64"
      ]
     },
     "execution_count": 28,
     "metadata": {},
     "output_type": "execute_result"
    }
   ],
   "source": [
    "data['Date'].dt.dayofyear.value_counts()"
   ]
  },
  {
   "cell_type": "code",
   "execution_count": 29,
   "id": "da2536d0",
   "metadata": {},
   "outputs": [
    {
     "data": {
      "text/plain": [
       "362"
      ]
     },
     "execution_count": 29,
     "metadata": {},
     "output_type": "execute_result"
    }
   ],
   "source": [
    "len(data['Date'].dt.dayofyear.value_counts())"
   ]
  },
  {
   "cell_type": "markdown",
   "id": "1b3090b0",
   "metadata": {},
   "source": [
    "day of week"
   ]
  },
  {
   "cell_type": "code",
   "execution_count": 30,
   "id": "9b65dd09",
   "metadata": {},
   "outputs": [
    {
     "data": {
      "text/plain": [
       "0          6\n",
       "1          6\n",
       "2          6\n",
       "3          6\n",
       "4          6\n",
       "          ..\n",
       "3441192    1\n",
       "3441193    1\n",
       "3441194    1\n",
       "3441195    1\n",
       "3441196    1\n",
       "Name: Date, Length: 3440540, dtype: int64"
      ]
     },
     "execution_count": 30,
     "metadata": {},
     "output_type": "execute_result"
    }
   ],
   "source": [
    "data['Date'].dt.dayofweek"
   ]
  },
  {
   "cell_type": "code",
   "execution_count": 31,
   "id": "7cb57c4b",
   "metadata": {},
   "outputs": [
    {
     "data": {
      "text/plain": [
       "0    497277\n",
       "5    493745\n",
       "3    493319\n",
       "1    491527\n",
       "6    491422\n",
       "4    490420\n",
       "2    482830\n",
       "Name: Date, dtype: int64"
      ]
     },
     "execution_count": 31,
     "metadata": {},
     "output_type": "execute_result"
    }
   ],
   "source": [
    "data['Date'].dt.dayofweek.value_counts()"
   ]
  },
  {
   "cell_type": "markdown",
   "id": "0b9dd8e3",
   "metadata": {},
   "source": [
    "day of week name"
   ]
  },
  {
   "cell_type": "code",
   "execution_count": 32,
   "id": "280d46cd",
   "metadata": {},
   "outputs": [
    {
     "data": {
      "text/plain": [
       "0           Sunday\n",
       "1           Sunday\n",
       "2           Sunday\n",
       "3           Sunday\n",
       "4           Sunday\n",
       "            ...   \n",
       "3441192    Tuesday\n",
       "3441193    Tuesday\n",
       "3441194    Tuesday\n",
       "3441195    Tuesday\n",
       "3441196    Tuesday\n",
       "Name: Date, Length: 3440540, dtype: object"
      ]
     },
     "execution_count": 32,
     "metadata": {},
     "output_type": "execute_result"
    }
   ],
   "source": [
    "data['Date'].dt.day_name()"
   ]
  },
  {
   "cell_type": "markdown",
   "id": "534fc8f4",
   "metadata": {},
   "source": [
    "## Put it all together"
   ]
  },
  {
   "cell_type": "code",
   "execution_count": 33,
   "id": "1d5bd90f",
   "metadata": {},
   "outputs": [
    {
     "data": {
      "text/html": [
       "<div>\n",
       "<style scoped>\n",
       "    .dataframe tbody tr th:only-of-type {\n",
       "        vertical-align: middle;\n",
       "    }\n",
       "\n",
       "    .dataframe tbody tr th {\n",
       "        vertical-align: top;\n",
       "    }\n",
       "\n",
       "    .dataframe thead th {\n",
       "        text-align: right;\n",
       "    }\n",
       "</style>\n",
       "<table border=\"1\" class=\"dataframe\">\n",
       "  <thead>\n",
       "    <tr style=\"text-align: right;\">\n",
       "      <th></th>\n",
       "      <th>Year</th>\n",
       "      <th>Month</th>\n",
       "      <th>Day Of Month</th>\n",
       "      <th>Day Of Year</th>\n",
       "      <th>Day Of Week</th>\n",
       "      <th>Day Of Week Name</th>\n",
       "    </tr>\n",
       "  </thead>\n",
       "  <tbody>\n",
       "    <tr>\n",
       "      <th>0</th>\n",
       "      <td>2017</td>\n",
       "      <td>1</td>\n",
       "      <td>1</td>\n",
       "      <td>1</td>\n",
       "      <td>6</td>\n",
       "      <td>Sunday</td>\n",
       "    </tr>\n",
       "    <tr>\n",
       "      <th>1</th>\n",
       "      <td>2017</td>\n",
       "      <td>1</td>\n",
       "      <td>1</td>\n",
       "      <td>1</td>\n",
       "      <td>6</td>\n",
       "      <td>Sunday</td>\n",
       "    </tr>\n",
       "    <tr>\n",
       "      <th>2</th>\n",
       "      <td>2017</td>\n",
       "      <td>1</td>\n",
       "      <td>1</td>\n",
       "      <td>1</td>\n",
       "      <td>6</td>\n",
       "      <td>Sunday</td>\n",
       "    </tr>\n",
       "    <tr>\n",
       "      <th>3</th>\n",
       "      <td>2017</td>\n",
       "      <td>1</td>\n",
       "      <td>1</td>\n",
       "      <td>1</td>\n",
       "      <td>6</td>\n",
       "      <td>Sunday</td>\n",
       "    </tr>\n",
       "    <tr>\n",
       "      <th>4</th>\n",
       "      <td>2017</td>\n",
       "      <td>1</td>\n",
       "      <td>1</td>\n",
       "      <td>1</td>\n",
       "      <td>6</td>\n",
       "      <td>Sunday</td>\n",
       "    </tr>\n",
       "  </tbody>\n",
       "</table>\n",
       "</div>"
      ],
      "text/plain": [
       "   Year  Month  Day Of Month  Day Of Year  Day Of Week Day Of Week Name\n",
       "0  2017      1             1            1            6           Sunday\n",
       "1  2017      1             1            1            6           Sunday\n",
       "2  2017      1             1            1            6           Sunday\n",
       "3  2017      1             1            1            6           Sunday\n",
       "4  2017      1             1            1            6           Sunday"
      ]
     },
     "execution_count": 33,
     "metadata": {},
     "output_type": "execute_result"
    }
   ],
   "source": [
    "date_data = pd.DataFrame({\"Year\": data['Date'].dt.year,\n",
    "              \"Month\": data['Date'].dt.month,\n",
    "              \"Day Of Month\": data['Date'].dt.day,\n",
    "              \"Day Of Year\": data['Date'].dt.dayofyear,\n",
    "              \"Day Of Week\": data['Date'].dt.dayofweek,\n",
    "              \"Day Of Week Name\": data['Date'].dt.day_name()\n",
    "             })\n",
    "date_data.head()"
   ]
  },
  {
   "cell_type": "code",
   "execution_count": null,
   "id": "c728e091",
   "metadata": {},
   "outputs": [],
   "source": []
  },
  {
   "cell_type": "code",
   "execution_count": 34,
   "id": "021df400",
   "metadata": {},
   "outputs": [
    {
     "data": {
      "text/plain": [
       "(3440540, 6)"
      ]
     },
     "execution_count": 34,
     "metadata": {},
     "output_type": "execute_result"
    }
   ],
   "source": [
    "data.shape"
   ]
  },
  {
   "cell_type": "code",
   "execution_count": 35,
   "id": "89230d2b",
   "metadata": {},
   "outputs": [
    {
     "data": {
      "text/plain": [
       "(3440540, 6)"
      ]
     },
     "execution_count": 35,
     "metadata": {},
     "output_type": "execute_result"
    }
   ],
   "source": [
    "date_data.shape"
   ]
  },
  {
   "cell_type": "markdown",
   "id": "bc2d4fa1",
   "metadata": {},
   "source": [
    "joining date_data to main data"
   ]
  },
  {
   "cell_type": "code",
   "execution_count": 36,
   "id": "f53eae6c",
   "metadata": {},
   "outputs": [],
   "source": [
    "data=data.join(date_data.set_index(data.index), on=data.index).copy()"
   ]
  },
  {
   "cell_type": "markdown",
   "id": "a1dc188f",
   "metadata": {},
   "source": [
    "removing date column"
   ]
  },
  {
   "cell_type": "markdown",
   "id": "204f298b",
   "metadata": {},
   "source": [
    "# removing 2018 data"
   ]
  },
  {
   "cell_type": "code",
   "execution_count": 37,
   "id": "e55f8cfb",
   "metadata": {},
   "outputs": [],
   "source": [
    "data=data[data['Year']==2017].copy()"
   ]
  },
  {
   "cell_type": "code",
   "execution_count": 38,
   "id": "761fc5ec",
   "metadata": {},
   "outputs": [],
   "source": [
    "data.drop(['Date'], axis=1,inplace=True)"
   ]
  },
  {
   "cell_type": "code",
   "execution_count": 39,
   "id": "133d9d0a",
   "metadata": {},
   "outputs": [],
   "source": [
    "data.drop(['Day Of Week Name'], axis=1,inplace=True)"
   ]
  },
  {
   "cell_type": "code",
   "execution_count": 40,
   "id": "e77c3122",
   "metadata": {},
   "outputs": [
    {
     "data": {
      "text/html": [
       "<div>\n",
       "<style scoped>\n",
       "    .dataframe tbody tr th:only-of-type {\n",
       "        vertical-align: middle;\n",
       "    }\n",
       "\n",
       "    .dataframe tbody tr th {\n",
       "        vertical-align: top;\n",
       "    }\n",
       "\n",
       "    .dataframe thead th {\n",
       "        text-align: right;\n",
       "    }\n",
       "</style>\n",
       "<table border=\"1\" class=\"dataframe\">\n",
       "  <thead>\n",
       "    <tr style=\"text-align: right;\">\n",
       "      <th></th>\n",
       "      <th>Position</th>\n",
       "      <th>Track Name</th>\n",
       "      <th>Artist</th>\n",
       "      <th>Streams</th>\n",
       "      <th>Region</th>\n",
       "      <th>Year</th>\n",
       "      <th>Month</th>\n",
       "      <th>Day Of Month</th>\n",
       "      <th>Day Of Year</th>\n",
       "      <th>Day Of Week</th>\n",
       "    </tr>\n",
       "  </thead>\n",
       "  <tbody>\n",
       "    <tr>\n",
       "      <th>0</th>\n",
       "      <td>1</td>\n",
       "      <td>Reggaetón Lento (Bailemos)</td>\n",
       "      <td>897</td>\n",
       "      <td>19272</td>\n",
       "      <td>ec</td>\n",
       "      <td>2017</td>\n",
       "      <td>1</td>\n",
       "      <td>1</td>\n",
       "      <td>1</td>\n",
       "      <td>6</td>\n",
       "    </tr>\n",
       "    <tr>\n",
       "      <th>1</th>\n",
       "      <td>2</td>\n",
       "      <td>Chantaje</td>\n",
       "      <td>5194</td>\n",
       "      <td>19270</td>\n",
       "      <td>ec</td>\n",
       "      <td>2017</td>\n",
       "      <td>1</td>\n",
       "      <td>1</td>\n",
       "      <td>1</td>\n",
       "      <td>6</td>\n",
       "    </tr>\n",
       "    <tr>\n",
       "      <th>2</th>\n",
       "      <td>3</td>\n",
       "      <td>Otra Vez (feat. J Balvin)</td>\n",
       "      <td>6331</td>\n",
       "      <td>15761</td>\n",
       "      <td>ec</td>\n",
       "      <td>2017</td>\n",
       "      <td>1</td>\n",
       "      <td>1</td>\n",
       "      <td>1</td>\n",
       "      <td>6</td>\n",
       "    </tr>\n",
       "    <tr>\n",
       "      <th>3</th>\n",
       "      <td>4</td>\n",
       "      <td>Vente Pa' Ca</td>\n",
       "      <td>4854</td>\n",
       "      <td>14954</td>\n",
       "      <td>ec</td>\n",
       "      <td>2017</td>\n",
       "      <td>1</td>\n",
       "      <td>1</td>\n",
       "      <td>1</td>\n",
       "      <td>6</td>\n",
       "    </tr>\n",
       "    <tr>\n",
       "      <th>4</th>\n",
       "      <td>5</td>\n",
       "      <td>Safari</td>\n",
       "      <td>2523</td>\n",
       "      <td>14269</td>\n",
       "      <td>ec</td>\n",
       "      <td>2017</td>\n",
       "      <td>1</td>\n",
       "      <td>1</td>\n",
       "      <td>1</td>\n",
       "      <td>6</td>\n",
       "    </tr>\n",
       "  </tbody>\n",
       "</table>\n",
       "</div>"
      ],
      "text/plain": [
       "   Position                  Track Name  Artist  Streams Region  Year  Month  \\\n",
       "0         1  Reggaetón Lento (Bailemos)     897    19272     ec  2017      1   \n",
       "1         2                    Chantaje    5194    19270     ec  2017      1   \n",
       "2         3   Otra Vez (feat. J Balvin)    6331    15761     ec  2017      1   \n",
       "3         4                Vente Pa' Ca    4854    14954     ec  2017      1   \n",
       "4         5                      Safari    2523    14269     ec  2017      1   \n",
       "\n",
       "   Day Of Month  Day Of Year  Day Of Week  \n",
       "0             1            1            6  \n",
       "1             1            1            6  \n",
       "2             1            1            6  \n",
       "3             1            1            6  \n",
       "4             1            1            6  "
      ]
     },
     "execution_count": 40,
     "metadata": {},
     "output_type": "execute_result"
    }
   ],
   "source": [
    "data.head()"
   ]
  },
  {
   "cell_type": "code",
   "execution_count": 41,
   "id": "d29bcebb",
   "metadata": {},
   "outputs": [
    {
     "data": {
      "text/plain": [
       "(3355829, 10)"
      ]
     },
     "execution_count": 41,
     "metadata": {},
     "output_type": "execute_result"
    }
   ],
   "source": [
    "data.shape"
   ]
  },
  {
   "cell_type": "markdown",
   "id": "05856982",
   "metadata": {},
   "source": [
    "note for each track name there is one and only one artist so each track corresponds to one artist so for prediction artist variable is not required, for eda visualization and data analysis though we will require artist name and trck name"
   ]
  },
  {
   "cell_type": "markdown",
   "id": "367b6500",
   "metadata": {},
   "source": [
    "## making model"
   ]
  },
  {
   "cell_type": "markdown",
   "id": "adc42c96",
   "metadata": {},
   "source": [
    "target column is position"
   ]
  },
  {
   "cell_type": "code",
   "execution_count": 42,
   "id": "b9eabfe0",
   "metadata": {},
   "outputs": [],
   "source": [
    "target='Position'"
   ]
  },
  {
   "cell_type": "code",
   "execution_count": 43,
   "id": "d87733e6",
   "metadata": {},
   "outputs": [],
   "source": [
    "le = preprocessing.LabelEncoder()\n",
    "data['Track Name']=le.fit_transform(data['Track Name'])\n",
    "data['Artist']=le.fit_transform(data['Artist'])\n",
    "data['Region']=le.fit_transform(data['Region'])"
   ]
  },
  {
   "cell_type": "code",
   "execution_count": 44,
   "id": "3cae8e0e",
   "metadata": {},
   "outputs": [],
   "source": [
    "data.drop(columns=['Track Name', 'Artist'],inplace=True)"
   ]
  },
  {
   "cell_type": "code",
   "execution_count": 45,
   "id": "7268f249",
   "metadata": {},
   "outputs": [],
   "source": [
    "x = (data[[z for z in data.columns.tolist() if z not in [target]]]).copy()\n",
    "y = data[target].copy()\n",
    "x.shape, y.shape\n",
    "\n",
    "train_x,x1,train_y,y1 = train_test_split(x,y,test_size=0.4,random_state= r, stratify=y).copy()\n",
    "test_x,val_x,test_y,val_y= train_test_split(x1, y1, test_size=0.5,random_state=r, stratify=y1).copy()"
   ]
  },
  {
   "cell_type": "markdown",
   "id": "792affcb",
   "metadata": {},
   "source": [
    "# Modelling"
   ]
  },
  {
   "cell_type": "code",
   "execution_count": 46,
   "id": "15d5ecd3",
   "metadata": {},
   "outputs": [
    {
     "data": {
      "text/plain": [
       "Position        int64\n",
       "Streams         int64\n",
       "Region          int64\n",
       "Year            int64\n",
       "Month           int64\n",
       "Day Of Month    int64\n",
       "Day Of Year     int64\n",
       "Day Of Week     int64\n",
       "dtype: object"
      ]
     },
     "execution_count": 46,
     "metadata": {},
     "output_type": "execute_result"
    }
   ],
   "source": [
    "data.dtypes"
   ]
  },
  {
   "cell_type": "code",
   "execution_count": 47,
   "id": "39359cdf",
   "metadata": {},
   "outputs": [
    {
     "data": {
      "text/html": [
       "<div>\n",
       "<style scoped>\n",
       "    .dataframe tbody tr th:only-of-type {\n",
       "        vertical-align: middle;\n",
       "    }\n",
       "\n",
       "    .dataframe tbody tr th {\n",
       "        vertical-align: top;\n",
       "    }\n",
       "\n",
       "    .dataframe thead th {\n",
       "        text-align: right;\n",
       "    }\n",
       "</style>\n",
       "<table border=\"1\" class=\"dataframe\">\n",
       "  <thead>\n",
       "    <tr style=\"text-align: right;\">\n",
       "      <th></th>\n",
       "      <th>Position</th>\n",
       "      <th>Streams</th>\n",
       "      <th>Region</th>\n",
       "      <th>Year</th>\n",
       "      <th>Month</th>\n",
       "      <th>Day Of Month</th>\n",
       "      <th>Day Of Year</th>\n",
       "      <th>Day Of Week</th>\n",
       "    </tr>\n",
       "  </thead>\n",
       "  <tbody>\n",
       "    <tr>\n",
       "      <th>0</th>\n",
       "      <td>1</td>\n",
       "      <td>19272</td>\n",
       "      <td>15</td>\n",
       "      <td>2017</td>\n",
       "      <td>1</td>\n",
       "      <td>1</td>\n",
       "      <td>1</td>\n",
       "      <td>6</td>\n",
       "    </tr>\n",
       "    <tr>\n",
       "      <th>1</th>\n",
       "      <td>2</td>\n",
       "      <td>19270</td>\n",
       "      <td>15</td>\n",
       "      <td>2017</td>\n",
       "      <td>1</td>\n",
       "      <td>1</td>\n",
       "      <td>1</td>\n",
       "      <td>6</td>\n",
       "    </tr>\n",
       "    <tr>\n",
       "      <th>2</th>\n",
       "      <td>3</td>\n",
       "      <td>15761</td>\n",
       "      <td>15</td>\n",
       "      <td>2017</td>\n",
       "      <td>1</td>\n",
       "      <td>1</td>\n",
       "      <td>1</td>\n",
       "      <td>6</td>\n",
       "    </tr>\n",
       "    <tr>\n",
       "      <th>3</th>\n",
       "      <td>4</td>\n",
       "      <td>14954</td>\n",
       "      <td>15</td>\n",
       "      <td>2017</td>\n",
       "      <td>1</td>\n",
       "      <td>1</td>\n",
       "      <td>1</td>\n",
       "      <td>6</td>\n",
       "    </tr>\n",
       "    <tr>\n",
       "      <th>4</th>\n",
       "      <td>5</td>\n",
       "      <td>14269</td>\n",
       "      <td>15</td>\n",
       "      <td>2017</td>\n",
       "      <td>1</td>\n",
       "      <td>1</td>\n",
       "      <td>1</td>\n",
       "      <td>6</td>\n",
       "    </tr>\n",
       "  </tbody>\n",
       "</table>\n",
       "</div>"
      ],
      "text/plain": [
       "   Position  Streams  Region  Year  Month  Day Of Month  Day Of Year  \\\n",
       "0         1    19272      15  2017      1             1            1   \n",
       "1         2    19270      15  2017      1             1            1   \n",
       "2         3    15761      15  2017      1             1            1   \n",
       "3         4    14954      15  2017      1             1            1   \n",
       "4         5    14269      15  2017      1             1            1   \n",
       "\n",
       "   Day Of Week  \n",
       "0            6  \n",
       "1            6  \n",
       "2            6  \n",
       "3            6  \n",
       "4            6  "
      ]
     },
     "execution_count": 47,
     "metadata": {},
     "output_type": "execute_result"
    }
   ],
   "source": [
    "data.head()"
   ]
  },
  {
   "cell_type": "code",
   "execution_count": 48,
   "id": "ba14802a",
   "metadata": {},
   "outputs": [],
   "source": [
    "dt=dtr(random_state=r)"
   ]
  },
  {
   "cell_type": "markdown",
   "id": "7a245374",
   "metadata": {},
   "source": [
    "# xgboost model"
   ]
  },
  {
   "cell_type": "code",
   "execution_count": 49,
   "id": "e091d2af",
   "metadata": {},
   "outputs": [],
   "source": [
    "import xgboost as xgb\n",
    "from xgboost import XGBRegressor as xgbr"
   ]
  },
  {
   "cell_type": "code",
   "execution_count": 50,
   "id": "811ed902",
   "metadata": {},
   "outputs": [],
   "source": [
    "xgbm=xgbr(random_state=r,verbosity=0)"
   ]
  },
  {
   "cell_type": "code",
   "execution_count": 51,
   "id": "a45fc77f",
   "metadata": {},
   "outputs": [
    {
     "data": {
      "text/plain": [
       "[120.14416988217695, 120.0958934582372, 118.28101957176413]"
      ]
     },
     "execution_count": 51,
     "metadata": {},
     "output_type": "execute_result"
    }
   ],
   "source": [
    "xgbmmodel = xgbm\n",
    "xgbmmodel.fit(train_x,train_y)\n",
    "pred=xgbmmodel.predict(val_x)\n",
    "predtr=xgbmmodel.predict(train_x)\n",
    "predt=xgbmmodel.predict(test_x)\n",
    "[rmse(test_y, predt,squared=True),rmse(val_y, pred,squared=True),rmse(train_y, predtr,squared=True)]"
   ]
  },
  {
   "cell_type": "code",
   "execution_count": 52,
   "id": "e705f968",
   "metadata": {},
   "outputs": [],
   "source": [
    "params={'learning_rate':0.03,'subsample':1,'colsample_bylevel':0.9,'colsample_bynode':0.9,'colsample_bytree':0.9}"
   ]
  },
  {
   "cell_type": "code",
   "execution_count": 53,
   "id": "d17258a7",
   "metadata": {},
   "outputs": [
    {
     "name": "stdout",
     "output_type": "stream",
     "text": [
      "[0]\ttrain-rmse:107.53387\tval-rmse:107.53466\n",
      "[10]\ttrain-rmse:86.07295\tval-rmse:86.07454\n",
      "[20]\ttrain-rmse:71.53435\tval-rmse:71.53851\n",
      "[30]\ttrain-rmse:61.87415\tval-rmse:61.88079\n",
      "[40]\ttrain-rmse:55.46118\tval-rmse:55.47272\n",
      "[50]\ttrain-rmse:50.29715\tval-rmse:50.31365\n",
      "[60]\ttrain-rmse:47.18761\tval-rmse:47.20741\n",
      "[70]\ttrain-rmse:45.18269\tval-rmse:45.20959\n",
      "[80]\ttrain-rmse:43.76424\tval-rmse:43.79773\n",
      "[90]\ttrain-rmse:42.16228\tval-rmse:42.19955\n",
      "[100]\ttrain-rmse:40.89498\tval-rmse:40.92973\n",
      "[110]\ttrain-rmse:39.87160\tval-rmse:39.90501\n",
      "[120]\ttrain-rmse:38.89062\tval-rmse:38.92203\n",
      "[130]\ttrain-rmse:38.24640\tval-rmse:38.27896\n",
      "[140]\ttrain-rmse:37.19486\tval-rmse:37.22591\n",
      "[150]\ttrain-rmse:35.92883\tval-rmse:35.95722\n",
      "[160]\ttrain-rmse:35.27581\tval-rmse:35.30306\n",
      "[170]\ttrain-rmse:34.41087\tval-rmse:34.43578\n",
      "[180]\ttrain-rmse:33.83334\tval-rmse:33.86276\n",
      "[190]\ttrain-rmse:33.25268\tval-rmse:33.28182\n",
      "[200]\ttrain-rmse:32.39953\tval-rmse:32.42789\n",
      "[210]\ttrain-rmse:31.87731\tval-rmse:31.90861\n",
      "[220]\ttrain-rmse:31.28585\tval-rmse:31.31618\n",
      "[230]\ttrain-rmse:30.51612\tval-rmse:30.54980\n",
      "[240]\ttrain-rmse:29.97954\tval-rmse:30.01362\n",
      "[250]\ttrain-rmse:28.77990\tval-rmse:28.81746\n",
      "[260]\ttrain-rmse:28.18621\tval-rmse:28.22619\n",
      "[270]\ttrain-rmse:27.63434\tval-rmse:27.67861\n",
      "[280]\ttrain-rmse:26.90116\tval-rmse:26.94758\n",
      "[290]\ttrain-rmse:26.28796\tval-rmse:26.33614\n",
      "[300]\ttrain-rmse:25.70715\tval-rmse:25.75584\n",
      "[310]\ttrain-rmse:25.09218\tval-rmse:25.14143\n",
      "[320]\ttrain-rmse:24.63876\tval-rmse:24.68930\n",
      "[330]\ttrain-rmse:24.28925\tval-rmse:24.33987\n",
      "[340]\ttrain-rmse:23.65927\tval-rmse:23.70890\n",
      "[350]\ttrain-rmse:23.29031\tval-rmse:23.34095\n",
      "[360]\ttrain-rmse:22.67948\tval-rmse:22.73174\n",
      "[370]\ttrain-rmse:22.07729\tval-rmse:22.12960\n",
      "[380]\ttrain-rmse:21.60508\tval-rmse:21.65805\n",
      "[390]\ttrain-rmse:21.18092\tval-rmse:21.23253\n",
      "[400]\ttrain-rmse:20.83094\tval-rmse:20.88520\n",
      "[410]\ttrain-rmse:20.51451\tval-rmse:20.57015\n",
      "[420]\ttrain-rmse:20.28677\tval-rmse:20.34318\n",
      "[430]\ttrain-rmse:20.06844\tval-rmse:20.12730\n",
      "[440]\ttrain-rmse:19.57035\tval-rmse:19.63304\n",
      "[450]\ttrain-rmse:19.36441\tval-rmse:19.42622\n",
      "[460]\ttrain-rmse:19.00180\tval-rmse:19.06425\n",
      "[470]\ttrain-rmse:18.70517\tval-rmse:18.76768\n",
      "[480]\ttrain-rmse:18.45243\tval-rmse:18.51565\n",
      "[490]\ttrain-rmse:18.16856\tval-rmse:18.23162\n",
      "[500]\ttrain-rmse:17.86865\tval-rmse:17.93257\n",
      "[510]\ttrain-rmse:17.70942\tval-rmse:17.77369\n",
      "[520]\ttrain-rmse:17.42368\tval-rmse:17.48896\n",
      "[530]\ttrain-rmse:17.14366\tval-rmse:17.20951\n",
      "[540]\ttrain-rmse:16.92461\tval-rmse:16.99064\n",
      "[550]\ttrain-rmse:16.66449\tval-rmse:16.73022\n",
      "[560]\ttrain-rmse:16.45366\tval-rmse:16.52061\n",
      "[570]\ttrain-rmse:16.19069\tval-rmse:16.26074\n",
      "[580]\ttrain-rmse:15.84404\tval-rmse:15.91631\n",
      "[590]\ttrain-rmse:15.60548\tval-rmse:15.67809\n",
      "[600]\ttrain-rmse:15.36068\tval-rmse:15.43446\n",
      "[610]\ttrain-rmse:15.15432\tval-rmse:15.22826\n",
      "[620]\ttrain-rmse:14.98889\tval-rmse:15.06348\n",
      "[630]\ttrain-rmse:14.81959\tval-rmse:14.89320\n",
      "[640]\ttrain-rmse:14.67436\tval-rmse:14.74744\n",
      "[650]\ttrain-rmse:14.47067\tval-rmse:14.54513\n",
      "[660]\ttrain-rmse:14.33783\tval-rmse:14.41202\n",
      "[670]\ttrain-rmse:14.16607\tval-rmse:14.24027\n",
      "[680]\ttrain-rmse:14.02646\tval-rmse:14.10037\n",
      "[690]\ttrain-rmse:13.85035\tval-rmse:13.92573\n",
      "[700]\ttrain-rmse:13.76410\tval-rmse:13.83921\n",
      "[710]\ttrain-rmse:13.60338\tval-rmse:13.67879\n",
      "[720]\ttrain-rmse:13.45753\tval-rmse:13.53328\n",
      "[730]\ttrain-rmse:13.32341\tval-rmse:13.39953\n",
      "[740]\ttrain-rmse:13.19140\tval-rmse:13.26803\n",
      "[750]\ttrain-rmse:13.03105\tval-rmse:13.10730\n",
      "[760]\ttrain-rmse:12.95296\tval-rmse:13.02900\n",
      "[770]\ttrain-rmse:12.83789\tval-rmse:12.91468\n",
      "[780]\ttrain-rmse:12.73017\tval-rmse:12.80765\n",
      "[790]\ttrain-rmse:12.62356\tval-rmse:12.70073\n",
      "[800]\ttrain-rmse:12.50571\tval-rmse:12.58311\n",
      "[810]\ttrain-rmse:12.36811\tval-rmse:12.44542\n",
      "[820]\ttrain-rmse:12.29117\tval-rmse:12.36858\n",
      "[830]\ttrain-rmse:12.20158\tval-rmse:12.27968\n",
      "[840]\ttrain-rmse:12.11688\tval-rmse:12.19521\n",
      "[850]\ttrain-rmse:12.04455\tval-rmse:12.12342\n",
      "[860]\ttrain-rmse:11.97820\tval-rmse:12.05669\n",
      "[870]\ttrain-rmse:11.91449\tval-rmse:11.99379\n",
      "[880]\ttrain-rmse:11.80695\tval-rmse:11.88715\n",
      "[890]\ttrain-rmse:11.72765\tval-rmse:11.80815\n",
      "[900]\ttrain-rmse:11.66922\tval-rmse:11.74993\n",
      "[910]\ttrain-rmse:11.57943\tval-rmse:11.66099\n",
      "[920]\ttrain-rmse:11.50291\tval-rmse:11.58453\n",
      "[930]\ttrain-rmse:11.43410\tval-rmse:11.51584\n",
      "[940]\ttrain-rmse:11.36743\tval-rmse:11.44963\n",
      "[950]\ttrain-rmse:11.30655\tval-rmse:11.38910\n",
      "[960]\ttrain-rmse:11.24867\tval-rmse:11.33199\n",
      "[970]\ttrain-rmse:11.17450\tval-rmse:11.25785\n",
      "[980]\ttrain-rmse:11.10640\tval-rmse:11.19030\n",
      "[990]\ttrain-rmse:11.06989\tval-rmse:11.15414\n",
      "[1000]\ttrain-rmse:11.02839\tval-rmse:11.11302\n",
      "[1010]\ttrain-rmse:10.94926\tval-rmse:11.03390\n",
      "[1020]\ttrain-rmse:10.87648\tval-rmse:10.96142\n",
      "[1030]\ttrain-rmse:10.80399\tval-rmse:10.88953\n",
      "[1040]\ttrain-rmse:10.75640\tval-rmse:10.84236\n",
      "[1050]\ttrain-rmse:10.68406\tval-rmse:10.77024\n",
      "[1060]\ttrain-rmse:10.63606\tval-rmse:10.72244\n",
      "[1070]\ttrain-rmse:10.57394\tval-rmse:10.66070\n",
      "[1080]\ttrain-rmse:10.51416\tval-rmse:10.60111\n",
      "[1090]\ttrain-rmse:10.47584\tval-rmse:10.56305\n",
      "[1100]\ttrain-rmse:10.41966\tval-rmse:10.50686\n",
      "[1110]\ttrain-rmse:10.35444\tval-rmse:10.44177\n",
      "[1120]\ttrain-rmse:10.29440\tval-rmse:10.38173\n",
      "[1130]\ttrain-rmse:10.25260\tval-rmse:10.34000\n",
      "[1140]\ttrain-rmse:10.22070\tval-rmse:10.30820\n",
      "[1150]\ttrain-rmse:10.16637\tval-rmse:10.25443\n",
      "[1160]\ttrain-rmse:10.12336\tval-rmse:10.21175\n",
      "[1170]\ttrain-rmse:10.08997\tval-rmse:10.17879\n",
      "[1180]\ttrain-rmse:10.05356\tval-rmse:10.14231\n",
      "[1190]\ttrain-rmse:10.02051\tval-rmse:10.10937\n",
      "[1200]\ttrain-rmse:9.99501\tval-rmse:10.08397\n",
      "[1210]\ttrain-rmse:9.95322\tval-rmse:10.04271\n",
      "[1220]\ttrain-rmse:9.91317\tval-rmse:10.00271\n",
      "[1230]\ttrain-rmse:9.87090\tval-rmse:9.96069\n",
      "[1240]\ttrain-rmse:9.83621\tval-rmse:9.92593\n",
      "[1250]\ttrain-rmse:9.80363\tval-rmse:9.89335\n",
      "[1260]\ttrain-rmse:9.77202\tval-rmse:9.86205\n",
      "[1270]\ttrain-rmse:9.73280\tval-rmse:9.82313\n",
      "[1280]\ttrain-rmse:9.70530\tval-rmse:9.79566\n",
      "[1290]\ttrain-rmse:9.68623\tval-rmse:9.77665\n",
      "[1300]\ttrain-rmse:9.64689\tval-rmse:9.73794\n",
      "[1310]\ttrain-rmse:9.61855\tval-rmse:9.71002\n",
      "[1320]\ttrain-rmse:9.59089\tval-rmse:9.68259\n",
      "[1330]\ttrain-rmse:9.56388\tval-rmse:9.65525\n",
      "[1340]\ttrain-rmse:9.52702\tval-rmse:9.61873\n",
      "[1350]\ttrain-rmse:9.49811\tval-rmse:9.58986\n",
      "[1360]\ttrain-rmse:9.47190\tval-rmse:9.56344\n",
      "[1370]\ttrain-rmse:9.44650\tval-rmse:9.53855\n",
      "[1380]\ttrain-rmse:9.41856\tval-rmse:9.51061\n",
      "[1390]\ttrain-rmse:9.38523\tval-rmse:9.47749\n",
      "[1400]\ttrain-rmse:9.36051\tval-rmse:9.45295\n",
      "[1410]\ttrain-rmse:9.32911\tval-rmse:9.42193\n",
      "[1420]\ttrain-rmse:9.30094\tval-rmse:9.39422\n",
      "[1430]\ttrain-rmse:9.27503\tval-rmse:9.36859\n",
      "[1440]\ttrain-rmse:9.24881\tval-rmse:9.34239\n",
      "[1450]\ttrain-rmse:9.22548\tval-rmse:9.31931\n",
      "[1460]\ttrain-rmse:9.19983\tval-rmse:9.29382\n",
      "[1470]\ttrain-rmse:9.16827\tval-rmse:9.26232\n",
      "[1480]\ttrain-rmse:9.14847\tval-rmse:9.24267\n",
      "[1490]\ttrain-rmse:9.12515\tval-rmse:9.21935\n",
      "[1499]\ttrain-rmse:9.09901\tval-rmse:9.19360\n",
      "Modeling RMSE 9.19360\n"
     ]
    }
   ],
   "source": [
    "dtrain = xgb.DMatrix(train_x, label=train_y, enable_categorical=True)\n",
    "dval = xgb.DMatrix(val_x, label=val_y, enable_categorical=True)\n",
    "watchlist = [(dtrain, 'train'), (dval, 'val')]\n",
    "xgbmodel = xgb.train(dtrain=dtrain,num_boost_round=1500,evals=watchlist, early_stopping_rounds=1,\n",
    "      maximize=False, verbose_eval=10 ,params=params)\n",
    "xbgmpredict={'ntree_limit':xgbmodel.best_ntree_limit}\n",
    "print('Modeling RMSE %.5f' % xgbmodel.best_score)"
   ]
  },
  {
   "cell_type": "code",
   "execution_count": 54,
   "id": "f3a2998b",
   "metadata": {},
   "outputs": [
    {
     "data": {
      "text/plain": [
       "9.193596"
      ]
     },
     "execution_count": 54,
     "metadata": {},
     "output_type": "execute_result"
    }
   ],
   "source": [
    "xgbmodel.best_score"
   ]
  },
  {
   "cell_type": "code",
   "execution_count": 55,
   "id": "88bba2f5",
   "metadata": {},
   "outputs": [
    {
     "data": {
      "text/plain": [
       "{'ntree_limit': 1500}"
      ]
     },
     "execution_count": 55,
     "metadata": {},
     "output_type": "execute_result"
    }
   ],
   "source": [
    "xbgmpredict"
   ]
  },
  {
   "cell_type": "code",
   "execution_count": 56,
   "id": "017b2d62",
   "metadata": {},
   "outputs": [
    {
     "data": {
      "text/plain": [
       "{'objective': 'reg:squarederror',\n",
       " 'base_score': 0.5,\n",
       " 'booster': 'gbtree',\n",
       " 'colsample_bylevel': 1,\n",
       " 'colsample_bynode': 1,\n",
       " 'colsample_bytree': 1,\n",
       " 'enable_categorical': False,\n",
       " 'gamma': 0,\n",
       " 'gpu_id': -1,\n",
       " 'importance_type': None,\n",
       " 'interaction_constraints': '',\n",
       " 'learning_rate': 0.300000012,\n",
       " 'max_delta_step': 0,\n",
       " 'max_depth': 6,\n",
       " 'min_child_weight': 1,\n",
       " 'missing': nan,\n",
       " 'monotone_constraints': '()',\n",
       " 'n_estimators': 100,\n",
       " 'n_jobs': 8,\n",
       " 'num_parallel_tree': 1,\n",
       " 'predictor': 'auto',\n",
       " 'random_state': 6,\n",
       " 'reg_alpha': 0,\n",
       " 'reg_lambda': 1,\n",
       " 'scale_pos_weight': 1,\n",
       " 'subsample': 1,\n",
       " 'tree_method': 'exact',\n",
       " 'validate_parameters': 1,\n",
       " 'verbosity': 0}"
      ]
     },
     "execution_count": 56,
     "metadata": {},
     "output_type": "execute_result"
    }
   ],
   "source": [
    "# save the model to the current directory for later use\n",
    "\n",
    "\n",
    "# write\n",
    "pkl_filename = \"xgbbestmodel.pkl\"\n",
    "with open(pkl_filename, 'wb') as file:\n",
    "    pickle.dump(xgbmmodel, file)\n",
    "\n",
    "\n",
    "# Load from file\n",
    "with open(pkl_filename, 'rb') as file:\n",
    "    xgbm_best_model = pickle.load(file)\n",
    "    \n",
    "# Calculate MSE values from saved model\n",
    "pred=xgbm_best_model.predict(val_x)\n",
    "predtr=xgbm_best_model.predict(train_x)\n",
    "predt=xgbm_best_model.predict(test_x)\n",
    "[rmse(test_y, predt,squared=True),rmse(val_y, pred,squared=True),rmse(train_y, predtr,squared=True)]\n",
    "\n",
    "# Parameters of the model\n",
    "xgbm_best_model.get_params()"
   ]
  },
  {
   "cell_type": "markdown",
   "id": "66e5ece0",
   "metadata": {},
   "source": [
    "# random forest model"
   ]
  },
  {
   "cell_type": "code",
   "execution_count": 57,
   "id": "d9ebeb4f",
   "metadata": {},
   "outputs": [],
   "source": [
    "#Importing random forest classifier \n",
    "from sklearn.ensemble import RandomForestRegressor as rtr"
   ]
  },
  {
   "cell_type": "code",
   "execution_count": 58,
   "id": "167998c8",
   "metadata": {},
   "outputs": [],
   "source": [
    "rt=rtr(random_state=r,warm_start=False,criterion='entropy')"
   ]
  },
  {
   "cell_type": "code",
   "execution_count": 59,
   "id": "dfc4840d",
   "metadata": {},
   "outputs": [
    {
     "data": {
      "text/plain": [
       "[3.933626622577542, 3.8805633344481136, 0.5684197102192705]"
      ]
     },
     "execution_count": 59,
     "metadata": {},
     "output_type": "execute_result"
    }
   ],
   "source": [
    "rtmodel=rtr()\n",
    "rtmodel.fit(train_x,train_y)\n",
    "pred=rtmodel.predict(test_x)\n",
    "predt=rtmodel.predict(val_x)\n",
    "predtr=rtmodel.predict(train_x)\n",
    "[rmse(test_y, pred,squared=True),rmse(val_y, predt,squared=True),rmse(train_y, predtr,squared=True)]"
   ]
  },
  {
   "cell_type": "code",
   "execution_count": 60,
   "id": "9bc8f9ee",
   "metadata": {},
   "outputs": [
    {
     "name": "stdout",
     "output_type": "stream",
     "text": [
      "Classification accuracy on training set: 1.000\n",
      "Classification accuracy on test set: 0.999\n"
     ]
    },
    {
     "data": {
      "text/plain": [
       "{'bootstrap': True,\n",
       " 'ccp_alpha': 0.0,\n",
       " 'criterion': 'entropy',\n",
       " 'max_depth': None,\n",
       " 'max_features': 'auto',\n",
       " 'max_leaf_nodes': None,\n",
       " 'max_samples': None,\n",
       " 'min_impurity_decrease': 0.0,\n",
       " 'min_samples_leaf': 1,\n",
       " 'min_samples_split': 2,\n",
       " 'min_weight_fraction_leaf': 0.0,\n",
       " 'n_estimators': 100,\n",
       " 'n_jobs': None,\n",
       " 'oob_score': False,\n",
       " 'random_state': 6,\n",
       " 'verbose': 0,\n",
       " 'warm_start': False}"
      ]
     },
     "execution_count": 60,
     "metadata": {},
     "output_type": "execute_result"
    }
   ],
   "source": [
    "print('Classification accuracy on training set: {:.3f}'.format(rtmodel.score(train_x, train_y)))\n",
    "print('Classification accuracy on test set: {:.3f}'.format(rtmodel.score(test_x, test_y)))\n",
    "rt.get_params()\n"
   ]
  },
  {
   "cell_type": "code",
   "execution_count": 61,
   "id": "22f7dcb1",
   "metadata": {},
   "outputs": [
    {
     "data": {
      "text/plain": [
       "{'bootstrap': True,\n",
       " 'ccp_alpha': 0.0,\n",
       " 'criterion': 'squared_error',\n",
       " 'max_depth': None,\n",
       " 'max_features': 'auto',\n",
       " 'max_leaf_nodes': None,\n",
       " 'max_samples': None,\n",
       " 'min_impurity_decrease': 0.0,\n",
       " 'min_samples_leaf': 1,\n",
       " 'min_samples_split': 2,\n",
       " 'min_weight_fraction_leaf': 0.0,\n",
       " 'n_estimators': 100,\n",
       " 'n_jobs': None,\n",
       " 'oob_score': False,\n",
       " 'random_state': None,\n",
       " 'verbose': 0,\n",
       " 'warm_start': False}"
      ]
     },
     "execution_count": 61,
     "metadata": {},
     "output_type": "execute_result"
    }
   ],
   "source": [
    "#save base random forest for later\n",
    "# write\n",
    "pkl_filename = \"rfbasemodel.pkl\"\n",
    "with open(pkl_filename, 'wb') as file:\n",
    "    pickle.dump(rtmodel, file)\n",
    "\n",
    "\n",
    "# Load from file\n",
    "with open(pkl_filename, 'rb') as file:\n",
    "    rf_model = pickle.load(file)\n",
    "    \n",
    "# Calculate MSE values from saved model\n",
    "pred=rf_model.predict(val_x)\n",
    "predtr=rf_model.predict(train_x)\n",
    "predt=rf_model.predict(test_x)\n",
    "[rmse(test_y, predt,squared=True),rmse(val_y, pred,squared=True),rmse(train_y, predtr,squared=True)]\n",
    "\n",
    "# Parameters of the model\n",
    "rf_model.get_params()"
   ]
  },
  {
   "cell_type": "code",
   "execution_count": 62,
   "id": "22dc0997",
   "metadata": {},
   "outputs": [
    {
     "data": {
      "text/plain": [
       "array([0.41145448, 0.50999401, 0.        , 0.00338535, 0.00492783,\n",
       "       0.05554373, 0.0146946 ])"
      ]
     },
     "execution_count": 62,
     "metadata": {},
     "output_type": "execute_result"
    }
   ],
   "source": [
    "rf_model.feature_importances_"
   ]
  },
  {
   "cell_type": "markdown",
   "id": "a0a70279",
   "metadata": {},
   "source": [
    "## decision tree"
   ]
  },
  {
   "cell_type": "code",
   "execution_count": 68,
   "id": "8f24b3f3",
   "metadata": {},
   "outputs": [
    {
     "data": {
      "text/plain": [
       "[7.1493946107719015, 0.004942396238981233]"
      ]
     },
     "execution_count": 68,
     "metadata": {},
     "output_type": "execute_result"
    }
   ],
   "source": [
    "dtmodel = dtr(random_state=r,criterion='squared_error')\n",
    "dtmodel.fit(train_x,train_y)\n",
    "pred=dtmodel.predict(val_x)\n",
    "predtr=dtmodel.predict(train_x)\n",
    "[rmse(val_y, pred,squared=True),rmse(train_y, predtr,squared=True)]"
   ]
  },
  {
   "cell_type": "code",
   "execution_count": 69,
   "id": "9399df7d",
   "metadata": {},
   "outputs": [
    {
     "data": {
      "image/png": "[encoded data removed]",
      "text/plain": [
       "<Figure size 1500x1500 with 1 Axes>"
      ]
     },
     "metadata": {},
     "output_type": "display_data"
    }
   ],
   "source": [
    "from sklearn.tree import plot_tree\n",
    "dtmodel.fit(train_x,train_y)\n",
    "plt.figure(figsize=(15,15))\n",
    "plot_tree(dtmodel, feature_names=train_x.columns, filled=True, max_depth=2)\n",
    "plt.title('DT_Tree')\n",
    "plt.show()"
   ]
  },
  {
   "cell_type": "code",
   "execution_count": null,
   "id": "21a76495",
   "metadata": {},
   "outputs": [],
   "source": []
  }
 ],
 "metadata": {
  "kernelspec": {
   "display_name": "Python 3 (ipykernel)",
   "language": "python",
   "name": "python3"
  },
  "language_info": {
   "codemirror_mode": {
    "name": "ipython",
    "version": 3
   },
   "file_extension": ".py",
   "mimetype": "text/x-python",
   "name": "python",
   "nbconvert_exporter": "python",
   "pygments_lexer": "ipython3",
   "version": "3.9.13"
  }
 },
 "nbformat": 4,
 "nbformat_minor": 5
}

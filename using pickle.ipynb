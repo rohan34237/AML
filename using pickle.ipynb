{
 "cells": [
  {
   "cell_type": "code",
   "execution_count": 4,
   "id": "08655caf",
   "metadata": {},
   "outputs": [],
   "source": [
    "import pickle\n"
   ]
  },
  {
   "cell_type": "code",
   "execution_count": 5,
   "id": "589fb431",
   "metadata": {},
   "outputs": [
    {
     "ename": "NameError",
     "evalue": "name 'val_x' is not defined",
     "output_type": "error",
     "traceback": [
      "\u001b[1;31m---------------------------------------------------------------------------\u001b[0m",
      "\u001b[1;31mNameError\u001b[0m                                 Traceback (most recent call last)",
      "Cell \u001b[1;32mIn [5], line 17\u001b[0m\n\u001b[0;32m     14\u001b[0m     xgbm_best_model \u001b[38;5;241m=\u001b[39m pickle\u001b[38;5;241m.\u001b[39mload(file)\n\u001b[0;32m     16\u001b[0m \u001b[38;5;66;03m# Calculate MSE values from saved model\u001b[39;00m\n\u001b[1;32m---> 17\u001b[0m pred\u001b[38;5;241m=\u001b[39mxgbm_best_model\u001b[38;5;241m.\u001b[39mpredict(\u001b[43mval_x\u001b[49m)\n\u001b[0;32m     18\u001b[0m predtr\u001b[38;5;241m=\u001b[39mxgbm_best_model\u001b[38;5;241m.\u001b[39mpredict(train_x)\n\u001b[0;32m     19\u001b[0m predt\u001b[38;5;241m=\u001b[39mxgbm_best_model\u001b[38;5;241m.\u001b[39mpredict(test_x)\n",
      "\u001b[1;31mNameError\u001b[0m: name 'val_x' is not defined"
     ]
    }
   ],
   "source": [
    "# save the model to the current directory for later use\n",
    "\n",
    "\n",
    "# write\n",
    "pkl_filename = \"xgbbestmodel.pkl\"\n",
    "\n",
    "'''\n",
    "with open(pkl_filename, 'wb') as file:\n",
    "    pickle.dump(xgbmmodel, file)\n",
    "'''\n",
    "\n",
    "# Load from file\n",
    "with open(pkl_filename, 'rb') as file:\n",
    "    xgbm_best_model = pickle.load(file)\n",
    "    \n",
    "    \n",
    "# would of course need to add the data here to do the next bit, but you can see that you can then use the model normally\n",
    "\n",
    "\n",
    "# Calculate MSE values from saved model\n",
    "pred=xgbm_best_model.predict(val_x)\n",
    "predtr=xgbm_best_model.predict(train_x)\n",
    "predt=xgbm_best_model.predict(test_x)\n",
    "[rmse(test_y, predt,squared=True),rmse(val_y, pred,squared=True),rmse(train_y, predtr,squared=True)]\n",
    "\n",
    "# Parameters of the model\n",
    "xgbm_best_model.get_params()"
   ]
  },
  {
   "cell_type": "code",
   "execution_count": null,
   "id": "3ab6247b",
   "metadata": {},
   "outputs": [],
   "source": []
  }
 ],
 "metadata": {
  "kernelspec": {
   "display_name": "Python 3 (ipykernel)",
   "language": "python",
   "name": "python3"
  },
  "language_info": {
   "codemirror_mode": {
    "name": "ipython",
    "version": 3
   },
   "file_extension": ".py",
   "mimetype": "text/x-python",
   "name": "python",
   "nbconvert_exporter": "python",
   "pygments_lexer": "ipython3",
   "version": "3.8.15"
  }
 },
 "nbformat": 4,
 "nbformat_minor": 5
}
